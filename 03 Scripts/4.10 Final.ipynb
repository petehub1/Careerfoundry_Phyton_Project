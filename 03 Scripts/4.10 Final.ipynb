{
 "cells": [
  {
   "cell_type": "markdown",
   "id": "40fe82fb",
   "metadata": {},
   "source": [
    "01 Importing libraries"
   ]
  },
  {
   "cell_type": "code",
   "execution_count": 1,
   "id": "dc90358f",
   "metadata": {},
   "outputs": [],
   "source": [
    "# Import libraries\n",
    "\n",
    "import pandas as pd\n",
    "import numpy as np\n",
    "import os\n",
    "import matplotlib.pyplot as plt\n",
    "import seaborn as sns\n",
    "import scipy"
   ]
  },
  {
   "cell_type": "markdown",
   "id": "f581df25",
   "metadata": {},
   "source": [
    "02 Importing pickle file"
   ]
  },
  {
   "cell_type": "code",
   "execution_count": 2,
   "id": "b3a3dcb0",
   "metadata": {},
   "outputs": [],
   "source": [
    "# create a path\n",
    "path = r'C:\\Users\\peter\\Documents\\04-2024 Instacart Basket Analysis'"
   ]
  },
  {
   "cell_type": "code",
   "execution_count": 3,
   "id": "166d74ac",
   "metadata": {},
   "outputs": [],
   "source": [
    "# Importing orders_products_customers_aggregated.pkl\n",
    "df_complete = pd.read_pickle(os.path.join(path, '02 Data', 'Prepared Data', 'orders_products_customers_aggregated.pkl'))"
   ]
  },
  {
   "cell_type": "markdown",
   "id": "de89b342",
   "metadata": {},
   "source": [
    "# Consider any security implications that might exist for this new data. You’ll need to address any PII data in the data before continuing your analysis."
   ]
  },
  {
   "cell_type": "code",
   "execution_count": 4,
   "id": "26a2ed5a",
   "metadata": {},
   "outputs": [
    {
     "data": {
      "text/html": [
       "<div>\n",
       "<style scoped>\n",
       "    .dataframe tbody tr th:only-of-type {\n",
       "        vertical-align: middle;\n",
       "    }\n",
       "\n",
       "    .dataframe tbody tr th {\n",
       "        vertical-align: top;\n",
       "    }\n",
       "\n",
       "    .dataframe thead th {\n",
       "        text-align: right;\n",
       "    }\n",
       "</style>\n",
       "<table border=\"1\" class=\"dataframe\">\n",
       "  <thead>\n",
       "    <tr style=\"text-align: right;\">\n",
       "      <th></th>\n",
       "      <th>order_id</th>\n",
       "      <th>user_id</th>\n",
       "      <th>order_number</th>\n",
       "      <th>orders_day_of_week</th>\n",
       "      <th>order_hour_of_day</th>\n",
       "      <th>days_since_prior_order</th>\n",
       "      <th>product_id</th>\n",
       "      <th>add_to_cart_order</th>\n",
       "      <th>reordered</th>\n",
       "      <th>product_name</th>\n",
       "      <th>...</th>\n",
       "      <th>first_name</th>\n",
       "      <th>surname</th>\n",
       "      <th>gender</th>\n",
       "      <th>state</th>\n",
       "      <th>age</th>\n",
       "      <th>date_joined</th>\n",
       "      <th>n_dependants</th>\n",
       "      <th>marital_status</th>\n",
       "      <th>income</th>\n",
       "      <th>_merge</th>\n",
       "    </tr>\n",
       "  </thead>\n",
       "  <tbody>\n",
       "    <tr>\n",
       "      <th>0</th>\n",
       "      <td>2539329</td>\n",
       "      <td>1</td>\n",
       "      <td>1</td>\n",
       "      <td>2</td>\n",
       "      <td>8</td>\n",
       "      <td>7.0</td>\n",
       "      <td>196</td>\n",
       "      <td>1</td>\n",
       "      <td>0</td>\n",
       "      <td>Soda</td>\n",
       "      <td>...</td>\n",
       "      <td>Linda</td>\n",
       "      <td>Nguyen</td>\n",
       "      <td>Female</td>\n",
       "      <td>Alabama</td>\n",
       "      <td>31</td>\n",
       "      <td>2/17/2019</td>\n",
       "      <td>3</td>\n",
       "      <td>married</td>\n",
       "      <td>40423</td>\n",
       "      <td>both</td>\n",
       "    </tr>\n",
       "    <tr>\n",
       "      <th>1</th>\n",
       "      <td>2398795</td>\n",
       "      <td>1</td>\n",
       "      <td>2</td>\n",
       "      <td>3</td>\n",
       "      <td>7</td>\n",
       "      <td>15.0</td>\n",
       "      <td>196</td>\n",
       "      <td>1</td>\n",
       "      <td>1</td>\n",
       "      <td>Soda</td>\n",
       "      <td>...</td>\n",
       "      <td>Linda</td>\n",
       "      <td>Nguyen</td>\n",
       "      <td>Female</td>\n",
       "      <td>Alabama</td>\n",
       "      <td>31</td>\n",
       "      <td>2/17/2019</td>\n",
       "      <td>3</td>\n",
       "      <td>married</td>\n",
       "      <td>40423</td>\n",
       "      <td>both</td>\n",
       "    </tr>\n",
       "    <tr>\n",
       "      <th>2</th>\n",
       "      <td>473747</td>\n",
       "      <td>1</td>\n",
       "      <td>3</td>\n",
       "      <td>3</td>\n",
       "      <td>12</td>\n",
       "      <td>21.0</td>\n",
       "      <td>196</td>\n",
       "      <td>1</td>\n",
       "      <td>1</td>\n",
       "      <td>Soda</td>\n",
       "      <td>...</td>\n",
       "      <td>Linda</td>\n",
       "      <td>Nguyen</td>\n",
       "      <td>Female</td>\n",
       "      <td>Alabama</td>\n",
       "      <td>31</td>\n",
       "      <td>2/17/2019</td>\n",
       "      <td>3</td>\n",
       "      <td>married</td>\n",
       "      <td>40423</td>\n",
       "      <td>both</td>\n",
       "    </tr>\n",
       "    <tr>\n",
       "      <th>3</th>\n",
       "      <td>2254736</td>\n",
       "      <td>1</td>\n",
       "      <td>4</td>\n",
       "      <td>4</td>\n",
       "      <td>7</td>\n",
       "      <td>29.0</td>\n",
       "      <td>196</td>\n",
       "      <td>1</td>\n",
       "      <td>1</td>\n",
       "      <td>Soda</td>\n",
       "      <td>...</td>\n",
       "      <td>Linda</td>\n",
       "      <td>Nguyen</td>\n",
       "      <td>Female</td>\n",
       "      <td>Alabama</td>\n",
       "      <td>31</td>\n",
       "      <td>2/17/2019</td>\n",
       "      <td>3</td>\n",
       "      <td>married</td>\n",
       "      <td>40423</td>\n",
       "      <td>both</td>\n",
       "    </tr>\n",
       "    <tr>\n",
       "      <th>4</th>\n",
       "      <td>431534</td>\n",
       "      <td>1</td>\n",
       "      <td>5</td>\n",
       "      <td>4</td>\n",
       "      <td>15</td>\n",
       "      <td>28.0</td>\n",
       "      <td>196</td>\n",
       "      <td>1</td>\n",
       "      <td>1</td>\n",
       "      <td>Soda</td>\n",
       "      <td>...</td>\n",
       "      <td>Linda</td>\n",
       "      <td>Nguyen</td>\n",
       "      <td>Female</td>\n",
       "      <td>Alabama</td>\n",
       "      <td>31</td>\n",
       "      <td>2/17/2019</td>\n",
       "      <td>3</td>\n",
       "      <td>married</td>\n",
       "      <td>40423</td>\n",
       "      <td>both</td>\n",
       "    </tr>\n",
       "  </tbody>\n",
       "</table>\n",
       "<p>5 rows × 33 columns</p>\n",
       "</div>"
      ],
      "text/plain": [
       "   order_id  user_id  order_number  orders_day_of_week  order_hour_of_day  \\\n",
       "0   2539329        1             1                   2                  8   \n",
       "1   2398795        1             2                   3                  7   \n",
       "2    473747        1             3                   3                 12   \n",
       "3   2254736        1             4                   4                  7   \n",
       "4    431534        1             5                   4                 15   \n",
       "\n",
       "   days_since_prior_order  product_id  add_to_cart_order  reordered  \\\n",
       "0                     7.0         196                  1          0   \n",
       "1                    15.0         196                  1          1   \n",
       "2                    21.0         196                  1          1   \n",
       "3                    29.0         196                  1          1   \n",
       "4                    28.0         196                  1          1   \n",
       "\n",
       "  product_name  ...  first_name  surname  gender    state age date_joined  \\\n",
       "0         Soda  ...       Linda   Nguyen  Female  Alabama  31   2/17/2019   \n",
       "1         Soda  ...       Linda   Nguyen  Female  Alabama  31   2/17/2019   \n",
       "2         Soda  ...       Linda   Nguyen  Female  Alabama  31   2/17/2019   \n",
       "3         Soda  ...       Linda   Nguyen  Female  Alabama  31   2/17/2019   \n",
       "4         Soda  ...       Linda   Nguyen  Female  Alabama  31   2/17/2019   \n",
       "\n",
       "  n_dependants  marital_status income  _merge  \n",
       "0            3         married  40423    both  \n",
       "1            3         married  40423    both  \n",
       "2            3         married  40423    both  \n",
       "3            3         married  40423    both  \n",
       "4            3         married  40423    both  \n",
       "\n",
       "[5 rows x 33 columns]"
      ]
     },
     "execution_count": 4,
     "metadata": {},
     "output_type": "execute_result"
    }
   ],
   "source": [
    "# looking at the head to determing PII data to remove\n",
    "df_complete.head()"
   ]
  },
  {
   "cell_type": "markdown",
   "id": "5a109c9a",
   "metadata": {},
   "source": [
    "I will remove first name and surname because of privacy reasons.\n",
    "I will remove _merge too as I do not need it."
   ]
  },
  {
   "cell_type": "code",
   "execution_count": 5,
   "id": "53b32d97",
   "metadata": {},
   "outputs": [],
   "source": [
    "# Removing first_Name  columns\n",
    "df_complete = df_complete.drop(columns = ['first_name'])"
   ]
  },
  {
   "cell_type": "code",
   "execution_count": 6,
   "id": "0e557142",
   "metadata": {},
   "outputs": [],
   "source": [
    "# Removing surname column\n",
    "df_complete = df_complete.drop(columns = ['surname'])"
   ]
  },
  {
   "cell_type": "code",
   "execution_count": 7,
   "id": "1bd4a274",
   "metadata": {},
   "outputs": [],
   "source": [
    "# Removing _merge column\n",
    "df_complete = df_complete.drop(columns = ['_merge'])"
   ]
  },
  {
   "cell_type": "code",
   "execution_count": 8,
   "id": "95e768bc",
   "metadata": {},
   "outputs": [
    {
     "data": {
      "text/html": [
       "<div>\n",
       "<style scoped>\n",
       "    .dataframe tbody tr th:only-of-type {\n",
       "        vertical-align: middle;\n",
       "    }\n",
       "\n",
       "    .dataframe tbody tr th {\n",
       "        vertical-align: top;\n",
       "    }\n",
       "\n",
       "    .dataframe thead th {\n",
       "        text-align: right;\n",
       "    }\n",
       "</style>\n",
       "<table border=\"1\" class=\"dataframe\">\n",
       "  <thead>\n",
       "    <tr style=\"text-align: right;\">\n",
       "      <th></th>\n",
       "      <th>order_id</th>\n",
       "      <th>user_id</th>\n",
       "      <th>order_number</th>\n",
       "      <th>orders_day_of_week</th>\n",
       "      <th>order_hour_of_day</th>\n",
       "      <th>days_since_prior_order</th>\n",
       "      <th>product_id</th>\n",
       "      <th>add_to_cart_order</th>\n",
       "      <th>reordered</th>\n",
       "      <th>product_name</th>\n",
       "      <th>...</th>\n",
       "      <th>spender_flag</th>\n",
       "      <th>Customer_frequency</th>\n",
       "      <th>frequency_flag</th>\n",
       "      <th>gender</th>\n",
       "      <th>state</th>\n",
       "      <th>age</th>\n",
       "      <th>date_joined</th>\n",
       "      <th>n_dependants</th>\n",
       "      <th>marital_status</th>\n",
       "      <th>income</th>\n",
       "    </tr>\n",
       "  </thead>\n",
       "  <tbody>\n",
       "    <tr>\n",
       "      <th>0</th>\n",
       "      <td>2539329</td>\n",
       "      <td>1</td>\n",
       "      <td>1</td>\n",
       "      <td>2</td>\n",
       "      <td>8</td>\n",
       "      <td>7.0</td>\n",
       "      <td>196</td>\n",
       "      <td>1</td>\n",
       "      <td>0</td>\n",
       "      <td>Soda</td>\n",
       "      <td>...</td>\n",
       "      <td>Low_spender</td>\n",
       "      <td>20.0</td>\n",
       "      <td>Regular customer</td>\n",
       "      <td>Female</td>\n",
       "      <td>Alabama</td>\n",
       "      <td>31</td>\n",
       "      <td>2/17/2019</td>\n",
       "      <td>3</td>\n",
       "      <td>married</td>\n",
       "      <td>40423</td>\n",
       "    </tr>\n",
       "    <tr>\n",
       "      <th>1</th>\n",
       "      <td>2398795</td>\n",
       "      <td>1</td>\n",
       "      <td>2</td>\n",
       "      <td>3</td>\n",
       "      <td>7</td>\n",
       "      <td>15.0</td>\n",
       "      <td>196</td>\n",
       "      <td>1</td>\n",
       "      <td>1</td>\n",
       "      <td>Soda</td>\n",
       "      <td>...</td>\n",
       "      <td>Low_spender</td>\n",
       "      <td>20.0</td>\n",
       "      <td>Regular customer</td>\n",
       "      <td>Female</td>\n",
       "      <td>Alabama</td>\n",
       "      <td>31</td>\n",
       "      <td>2/17/2019</td>\n",
       "      <td>3</td>\n",
       "      <td>married</td>\n",
       "      <td>40423</td>\n",
       "    </tr>\n",
       "    <tr>\n",
       "      <th>2</th>\n",
       "      <td>473747</td>\n",
       "      <td>1</td>\n",
       "      <td>3</td>\n",
       "      <td>3</td>\n",
       "      <td>12</td>\n",
       "      <td>21.0</td>\n",
       "      <td>196</td>\n",
       "      <td>1</td>\n",
       "      <td>1</td>\n",
       "      <td>Soda</td>\n",
       "      <td>...</td>\n",
       "      <td>Low_spender</td>\n",
       "      <td>20.0</td>\n",
       "      <td>Regular customer</td>\n",
       "      <td>Female</td>\n",
       "      <td>Alabama</td>\n",
       "      <td>31</td>\n",
       "      <td>2/17/2019</td>\n",
       "      <td>3</td>\n",
       "      <td>married</td>\n",
       "      <td>40423</td>\n",
       "    </tr>\n",
       "    <tr>\n",
       "      <th>3</th>\n",
       "      <td>2254736</td>\n",
       "      <td>1</td>\n",
       "      <td>4</td>\n",
       "      <td>4</td>\n",
       "      <td>7</td>\n",
       "      <td>29.0</td>\n",
       "      <td>196</td>\n",
       "      <td>1</td>\n",
       "      <td>1</td>\n",
       "      <td>Soda</td>\n",
       "      <td>...</td>\n",
       "      <td>Low_spender</td>\n",
       "      <td>20.0</td>\n",
       "      <td>Regular customer</td>\n",
       "      <td>Female</td>\n",
       "      <td>Alabama</td>\n",
       "      <td>31</td>\n",
       "      <td>2/17/2019</td>\n",
       "      <td>3</td>\n",
       "      <td>married</td>\n",
       "      <td>40423</td>\n",
       "    </tr>\n",
       "    <tr>\n",
       "      <th>4</th>\n",
       "      <td>431534</td>\n",
       "      <td>1</td>\n",
       "      <td>5</td>\n",
       "      <td>4</td>\n",
       "      <td>15</td>\n",
       "      <td>28.0</td>\n",
       "      <td>196</td>\n",
       "      <td>1</td>\n",
       "      <td>1</td>\n",
       "      <td>Soda</td>\n",
       "      <td>...</td>\n",
       "      <td>Low_spender</td>\n",
       "      <td>20.0</td>\n",
       "      <td>Regular customer</td>\n",
       "      <td>Female</td>\n",
       "      <td>Alabama</td>\n",
       "      <td>31</td>\n",
       "      <td>2/17/2019</td>\n",
       "      <td>3</td>\n",
       "      <td>married</td>\n",
       "      <td>40423</td>\n",
       "    </tr>\n",
       "  </tbody>\n",
       "</table>\n",
       "<p>5 rows × 30 columns</p>\n",
       "</div>"
      ],
      "text/plain": [
       "   order_id  user_id  order_number  orders_day_of_week  order_hour_of_day  \\\n",
       "0   2539329        1             1                   2                  8   \n",
       "1   2398795        1             2                   3                  7   \n",
       "2    473747        1             3                   3                 12   \n",
       "3   2254736        1             4                   4                  7   \n",
       "4    431534        1             5                   4                 15   \n",
       "\n",
       "   days_since_prior_order  product_id  add_to_cart_order  reordered  \\\n",
       "0                     7.0         196                  1          0   \n",
       "1                    15.0         196                  1          1   \n",
       "2                    21.0         196                  1          1   \n",
       "3                    29.0         196                  1          1   \n",
       "4                    28.0         196                  1          1   \n",
       "\n",
       "  product_name  ...  spender_flag  Customer_frequency    frequency_flag  \\\n",
       "0         Soda  ...   Low_spender                20.0  Regular customer   \n",
       "1         Soda  ...   Low_spender                20.0  Regular customer   \n",
       "2         Soda  ...   Low_spender                20.0  Regular customer   \n",
       "3         Soda  ...   Low_spender                20.0  Regular customer   \n",
       "4         Soda  ...   Low_spender                20.0  Regular customer   \n",
       "\n",
       "   gender    state age date_joined  n_dependants marital_status  income  \n",
       "0  Female  Alabama  31   2/17/2019             3        married   40423  \n",
       "1  Female  Alabama  31   2/17/2019             3        married   40423  \n",
       "2  Female  Alabama  31   2/17/2019             3        married   40423  \n",
       "3  Female  Alabama  31   2/17/2019             3        married   40423  \n",
       "4  Female  Alabama  31   2/17/2019             3        married   40423  \n",
       "\n",
       "[5 rows x 30 columns]"
      ]
     },
     "execution_count": 8,
     "metadata": {},
     "output_type": "execute_result"
    }
   ],
   "source": [
    "# doublecheck\n",
    "df_complete.head()"
   ]
  },
  {
   "cell_type": "code",
   "execution_count": 9,
   "id": "1d2ae073",
   "metadata": {},
   "outputs": [
    {
     "data": {
      "text/plain": [
       "Index(['order_id', 'user_id', 'order_number', 'orders_day_of_week',\n",
       "       'order_hour_of_day', 'days_since_prior_order', 'product_id',\n",
       "       'add_to_cart_order', 'reordered', 'product_name', 'aisle_id',\n",
       "       'department_id', 'prices', 'price_range_loc', 'busiest_day',\n",
       "       'busiest_days', 'busiest_period_of_day', 'max_order', 'loyalty_flag',\n",
       "       'average_spend', 'spender_flag', 'Customer_frequency', 'frequency_flag',\n",
       "       'gender', 'state', 'age', 'date_joined', 'n_dependants',\n",
       "       'marital_status', 'income'],\n",
       "      dtype='object')"
      ]
     },
     "execution_count": 9,
     "metadata": {},
     "output_type": "execute_result"
    }
   ],
   "source": [
    "# The next two lines are just info for myself for coding\n",
    "df_complete.columns"
   ]
  },
  {
   "cell_type": "code",
   "execution_count": 10,
   "id": "d560be23",
   "metadata": {},
   "outputs": [
    {
     "name": "stdout",
     "output_type": "stream",
     "text": [
      "0    Regular customer\n",
      "1    Regular customer\n",
      "2    Regular customer\n",
      "3    Regular customer\n",
      "4    Regular customer\n",
      "Name: frequency_flag, dtype: object\n"
     ]
    }
   ],
   "source": [
    "print(df_complete['frequency_flag'].head())"
   ]
  },
  {
   "cell_type": "markdown",
   "id": "7907888b",
   "metadata": {},
   "source": [
    "# The Instacart officers are interested in comparing customer behavior in different geographic areas. Create a regional segmentation of the data. You’ll need to create a “Region” column based on the “State” column from your customers data set.\n",
    "Use the region information in this Wikipedia article to create your column (you only need to create regions, not divisions).\n",
    "Determine whether there’s a difference in spending habits between the different U.S. regions. (Hint: You can do this by crossing the variable you just created with the spending flag.)"
   ]
  },
  {
   "cell_type": "code",
   "execution_count": 11,
   "id": "eebd4c63",
   "metadata": {},
   "outputs": [],
   "source": [
    "# creating the regions\n"
   ]
  },
  {
   "cell_type": "code",
   "execution_count": 12,
   "id": "3378f5bf",
   "metadata": {},
   "outputs": [],
   "source": [
    "result = []\n",
    "\n",
    "for value in df_complete[\"state\"]:\n",
    "  if (value == 'Maine') or ( value == 'New Hampshire') or (value == 'Vermont') or (value == 'Massachusetts') or (value == 'Rhode Island') or (value == 'Connecticut') or (value == 'New York') or (value == 'Pennsylvania') or (value == 'New Jersey'):\n",
    "    result.append(\"region 1, Northeast\")\n",
    "  elif (value =='Wisconsin') or (value == 'Michigan') or (value == 'Illinois') or (value == 'Indiana') or (value == 'Ohio') or (value == 'North Dakota') or (value == 'South Dakota') or (value =='Nebraska') or (value =='Kansas') or (value =='Minnesota') or (value =='Iowa') or (value =='Missouri'):\n",
    "    result.append(\"region 2, Midwest\")\n",
    "  elif (value =='Delaware') or (value == 'Maryland') or (value == 'District of Columbia') or (value =='Virginia') or (value =='West Virginia') or (value =='North Carolina') or (value == 'South Carolina') or (value == 'Georgia') or (value =='Florida') or (value =='Kentucky') or (value == 'Tennessee') or (value == 'Mississippi') or (value == 'Alabama') or (value == 'Oklahoma') or (value == 'Texas') or (value == 'Arkansas') or (value == 'Louisiana'):  \n",
    "    result.append(\"region 3, South\")  \n",
    "  elif (value =='Idaho') or (value == 'Montana') or (value == 'Wyoming') or (value == 'Nevada') or (value == 'Utah') or (value == 'Colorado') or (value =='Arizona') or (value == 'New Mexico') or (value == 'Alaska') or (value == 'Washington') or (value == 'Oregon') or (value == 'California') or (value == 'Hawaii'):\n",
    "    result.append(\"region 4, West\")\n",
    "  else:\n",
    "    result.append(\"NaN\")"
   ]
  },
  {
   "cell_type": "code",
   "execution_count": 13,
   "id": "34f7735b",
   "metadata": {},
   "outputs": [
    {
     "data": {
      "text/plain": [
       "['region 3, South',\n",
       " 'region 3, South',\n",
       " 'region 3, South',\n",
       " 'region 3, South',\n",
       " 'region 3, South',\n",
       " 'region 3, South',\n",
       " 'region 3, South',\n",
       " 'region 3, South',\n",
       " 'region 3, South',\n",
       " 'region 3, South',\n",
       " 'region 3, South',\n",
       " 'region 3, South',\n",
       " 'region 3, South',\n",
       " 'region 3, South',\n",
       " 'region 3, South',\n",
       " 'region 3, South',\n",
       " 'region 3, South',\n",
       " 'region 3, South',\n",
       " 'region 3, South',\n",
       " 'region 3, South',\n",
       " 'region 3, South',\n",
       " 'region 3, South',\n",
       " 'region 3, South',\n",
       " 'region 3, South',\n",
       " 'region 3, South',\n",
       " 'region 3, South',\n",
       " 'region 3, South',\n",
       " 'region 3, South',\n",
       " 'region 3, South',\n",
       " 'region 3, South',\n",
       " 'region 3, South',\n",
       " 'region 3, South',\n",
       " 'region 3, South',\n",
       " 'region 3, South',\n",
       " 'region 3, South',\n",
       " 'region 3, South',\n",
       " 'region 3, South',\n",
       " 'region 3, South',\n",
       " 'region 3, South',\n",
       " 'region 3, South',\n",
       " 'region 3, South',\n",
       " 'region 3, South',\n",
       " 'region 3, South',\n",
       " 'region 3, South',\n",
       " 'region 3, South',\n",
       " 'region 3, South',\n",
       " 'region 3, South',\n",
       " 'region 3, South',\n",
       " 'region 3, South',\n",
       " 'region 3, South',\n",
       " 'region 3, South',\n",
       " 'region 3, South',\n",
       " 'region 3, South',\n",
       " 'region 3, South',\n",
       " 'region 3, South',\n",
       " 'region 3, South',\n",
       " 'region 3, South',\n",
       " 'region 3, South',\n",
       " 'region 3, South',\n",
       " 'region 2, Midwest',\n",
       " 'region 2, Midwest',\n",
       " 'region 2, Midwest',\n",
       " 'region 2, Midwest',\n",
       " 'region 2, Midwest',\n",
       " 'region 2, Midwest',\n",
       " 'region 2, Midwest',\n",
       " 'region 2, Midwest',\n",
       " 'region 2, Midwest',\n",
       " 'region 2, Midwest',\n",
       " 'region 2, Midwest',\n",
       " 'region 2, Midwest',\n",
       " 'region 2, Midwest',\n",
       " 'region 2, Midwest',\n",
       " 'region 2, Midwest',\n",
       " 'region 2, Midwest',\n",
       " 'region 2, Midwest',\n",
       " 'region 2, Midwest',\n",
       " 'region 2, Midwest',\n",
       " 'region 2, Midwest',\n",
       " 'region 2, Midwest',\n",
       " 'region 2, Midwest',\n",
       " 'region 2, Midwest',\n",
       " 'region 2, Midwest',\n",
       " 'region 2, Midwest',\n",
       " 'region 2, Midwest',\n",
       " 'region 2, Midwest',\n",
       " 'region 2, Midwest',\n",
       " 'region 2, Midwest',\n",
       " 'region 2, Midwest',\n",
       " 'region 2, Midwest',\n",
       " 'region 2, Midwest',\n",
       " 'region 2, Midwest',\n",
       " 'region 2, Midwest',\n",
       " 'region 2, Midwest',\n",
       " 'region 2, Midwest',\n",
       " 'region 2, Midwest',\n",
       " 'region 2, Midwest',\n",
       " 'region 2, Midwest',\n",
       " 'region 2, Midwest',\n",
       " 'region 2, Midwest',\n",
       " 'region 2, Midwest',\n",
       " 'region 2, Midwest',\n",
       " 'region 2, Midwest',\n",
       " 'region 2, Midwest',\n",
       " 'region 2, Midwest',\n",
       " 'region 2, Midwest',\n",
       " 'region 2, Midwest',\n",
       " 'region 2, Midwest',\n",
       " 'region 2, Midwest',\n",
       " 'region 2, Midwest',\n",
       " 'region 2, Midwest',\n",
       " 'region 2, Midwest',\n",
       " 'region 2, Midwest',\n",
       " 'region 2, Midwest',\n",
       " 'region 2, Midwest',\n",
       " 'region 2, Midwest',\n",
       " 'region 2, Midwest',\n",
       " 'region 2, Midwest',\n",
       " 'region 2, Midwest',\n",
       " 'region 2, Midwest',\n",
       " 'region 2, Midwest',\n",
       " 'region 2, Midwest',\n",
       " 'region 2, Midwest',\n",
       " 'region 2, Midwest',\n",
       " 'region 2, Midwest',\n",
       " 'region 2, Midwest',\n",
       " 'region 2, Midwest',\n",
       " 'region 2, Midwest',\n",
       " 'region 2, Midwest',\n",
       " 'region 2, Midwest',\n",
       " 'region 2, Midwest',\n",
       " 'region 3, South',\n",
       " 'region 3, South',\n",
       " 'region 3, South',\n",
       " 'region 3, South',\n",
       " 'region 3, South',\n",
       " 'region 3, South',\n",
       " 'region 3, South',\n",
       " 'region 3, South',\n",
       " 'region 3, South',\n",
       " 'region 3, South',\n",
       " 'region 3, South',\n",
       " 'region 3, South',\n",
       " 'region 3, South',\n",
       " 'region 3, South',\n",
       " 'region 3, South',\n",
       " 'region 3, South',\n",
       " 'region 3, South',\n",
       " 'region 3, South',\n",
       " 'region 3, South',\n",
       " 'region 3, South',\n",
       " 'region 3, South',\n",
       " 'region 3, South',\n",
       " 'region 3, South',\n",
       " 'region 3, South',\n",
       " 'region 3, South',\n",
       " 'region 3, South',\n",
       " 'region 3, South',\n",
       " 'region 3, South',\n",
       " 'region 3, South',\n",
       " 'region 3, South',\n",
       " 'region 3, South',\n",
       " 'region 3, South',\n",
       " 'region 3, South',\n",
       " 'region 3, South',\n",
       " 'region 3, South',\n",
       " 'region 3, South',\n",
       " 'region 3, South',\n",
       " 'region 3, South',\n",
       " 'region 3, South',\n",
       " 'region 3, South',\n",
       " 'region 3, South',\n",
       " 'region 3, South',\n",
       " 'region 3, South',\n",
       " 'region 3, South',\n",
       " 'region 3, South',\n",
       " 'region 3, South',\n",
       " 'region 3, South',\n",
       " 'region 3, South',\n",
       " 'region 3, South',\n",
       " 'region 3, South',\n",
       " 'region 3, South',\n",
       " 'region 3, South',\n",
       " 'region 3, South',\n",
       " 'region 3, South',\n",
       " 'region 3, South',\n",
       " 'region 3, South',\n",
       " 'region 3, South',\n",
       " 'region 3, South',\n",
       " 'region 3, South',\n",
       " 'region 3, South',\n",
       " 'region 3, South',\n",
       " 'region 3, South',\n",
       " 'region 3, South',\n",
       " 'region 3, South',\n",
       " 'region 3, South',\n",
       " 'region 3, South',\n",
       " 'region 3, South',\n",
       " 'region 3, South',\n",
       " 'region 3, South',\n",
       " 'region 3, South',\n",
       " 'region 3, South',\n",
       " 'region 3, South',\n",
       " 'region 3, South',\n",
       " 'region 3, South',\n",
       " 'region 3, South',\n",
       " 'region 3, South',\n",
       " 'region 3, South',\n",
       " 'region 3, South',\n",
       " 'region 3, South',\n",
       " 'region 3, South',\n",
       " 'region 3, South',\n",
       " 'region 3, South',\n",
       " 'region 3, South',\n",
       " 'region 3, South',\n",
       " 'region 3, South',\n",
       " 'region 3, South',\n",
       " 'region 3, South',\n",
       " 'region 3, South',\n",
       " 'region 3, South',\n",
       " 'region 3, South',\n",
       " 'region 3, South',\n",
       " 'region 3, South',\n",
       " 'region 3, South',\n",
       " 'region 3, South',\n",
       " 'region 3, South',\n",
       " 'region 3, South',\n",
       " 'region 3, South',\n",
       " 'region 3, South',\n",
       " 'region 3, South',\n",
       " 'region 3, South',\n",
       " 'region 3, South',\n",
       " 'region 3, South',\n",
       " 'region 3, South',\n",
       " 'region 3, South',\n",
       " 'region 3, South',\n",
       " 'region 3, South',\n",
       " 'region 3, South',\n",
       " 'region 3, South',\n",
       " 'region 3, South',\n",
       " 'region 3, South',\n",
       " 'region 3, South',\n",
       " 'region 3, South',\n",
       " 'region 3, South',\n",
       " 'region 3, South',\n",
       " 'region 3, South',\n",
       " 'region 3, South',\n",
       " 'region 3, South',\n",
       " 'region 3, South',\n",
       " 'region 3, South',\n",
       " 'region 3, South',\n",
       " 'region 3, South',\n",
       " 'region 3, South',\n",
       " 'region 3, South',\n",
       " 'region 3, South',\n",
       " 'region 3, South',\n",
       " 'region 3, South',\n",
       " 'region 3, South',\n",
       " 'region 3, South',\n",
       " 'region 3, South',\n",
       " 'region 3, South',\n",
       " 'region 3, South',\n",
       " 'region 3, South',\n",
       " 'region 3, South',\n",
       " 'region 3, South',\n",
       " 'region 3, South',\n",
       " 'region 3, South',\n",
       " 'region 3, South',\n",
       " 'region 3, South',\n",
       " 'region 3, South',\n",
       " 'region 3, South',\n",
       " 'region 3, South',\n",
       " 'region 3, South',\n",
       " 'region 3, South',\n",
       " 'region 3, South',\n",
       " 'region 3, South',\n",
       " 'region 3, South',\n",
       " 'region 3, South',\n",
       " 'region 3, South',\n",
       " 'region 3, South',\n",
       " 'region 3, South',\n",
       " 'region 3, South',\n",
       " 'region 3, South',\n",
       " 'region 3, South',\n",
       " 'region 3, South',\n",
       " 'region 3, South',\n",
       " 'region 3, South',\n",
       " 'region 3, South',\n",
       " 'region 3, South',\n",
       " 'region 3, South',\n",
       " 'region 3, South',\n",
       " 'region 3, South',\n",
       " 'region 3, South',\n",
       " 'region 3, South',\n",
       " 'region 3, South',\n",
       " 'region 3, South',\n",
       " 'region 3, South',\n",
       " 'region 3, South',\n",
       " 'region 3, South',\n",
       " 'region 3, South',\n",
       " 'region 3, South',\n",
       " 'region 3, South',\n",
       " 'region 3, South',\n",
       " 'region 3, South',\n",
       " 'region 3, South',\n",
       " 'region 3, South',\n",
       " 'region 3, South',\n",
       " 'region 3, South',\n",
       " 'region 3, South',\n",
       " 'region 3, South',\n",
       " 'region 3, South',\n",
       " 'region 3, South',\n",
       " 'region 3, South',\n",
       " 'region 3, South',\n",
       " 'region 3, South',\n",
       " 'region 3, South',\n",
       " 'region 3, South',\n",
       " 'region 3, South',\n",
       " 'region 3, South',\n",
       " 'region 3, South',\n",
       " 'region 3, South',\n",
       " 'region 3, South',\n",
       " 'region 3, South',\n",
       " 'region 3, South',\n",
       " 'region 3, South',\n",
       " 'region 3, South',\n",
       " 'region 3, South',\n",
       " 'region 3, South',\n",
       " 'region 3, South',\n",
       " 'region 3, South',\n",
       " 'region 3, South',\n",
       " 'region 3, South',\n",
       " 'region 3, South',\n",
       " 'region 3, South',\n",
       " 'region 3, South',\n",
       " 'region 4, West',\n",
       " 'region 4, West',\n",
       " 'region 4, West',\n",
       " 'region 4, West',\n",
       " 'region 4, West',\n",
       " 'region 4, West',\n",
       " 'region 4, West',\n",
       " 'region 4, West',\n",
       " 'region 4, West',\n",
       " 'region 4, West',\n",
       " 'region 4, West',\n",
       " 'region 4, West',\n",
       " 'region 4, West',\n",
       " 'region 4, West',\n",
       " 'region 4, West',\n",
       " 'region 4, West',\n",
       " 'region 4, West',\n",
       " 'region 4, West',\n",
       " 'region 4, West',\n",
       " 'region 4, West',\n",
       " 'region 4, West',\n",
       " 'region 4, West',\n",
       " 'region 4, West',\n",
       " 'region 4, West',\n",
       " 'region 4, West',\n",
       " 'region 4, West',\n",
       " 'region 4, West',\n",
       " 'region 4, West',\n",
       " 'region 4, West',\n",
       " 'region 4, West',\n",
       " 'region 4, West',\n",
       " 'region 4, West',\n",
       " 'region 4, West',\n",
       " 'region 4, West',\n",
       " 'region 4, West',\n",
       " 'region 4, West',\n",
       " 'region 4, West',\n",
       " 'region 4, West',\n",
       " 'region 4, West',\n",
       " 'region 4, West',\n",
       " 'region 4, West',\n",
       " 'region 4, West',\n",
       " 'region 4, West',\n",
       " 'region 4, West',\n",
       " 'region 4, West',\n",
       " 'region 4, West',\n",
       " 'region 4, West',\n",
       " 'region 4, West',\n",
       " 'region 4, West',\n",
       " 'region 4, West',\n",
       " 'region 4, West',\n",
       " 'region 4, West',\n",
       " 'region 4, West',\n",
       " 'region 4, West',\n",
       " 'region 4, West',\n",
       " 'region 4, West',\n",
       " 'region 4, West',\n",
       " 'region 4, West',\n",
       " 'region 4, West',\n",
       " 'region 4, West',\n",
       " 'region 4, West',\n",
       " 'region 4, West',\n",
       " 'region 4, West',\n",
       " 'region 4, West',\n",
       " 'region 4, West',\n",
       " 'region 4, West',\n",
       " 'region 4, West',\n",
       " 'region 4, West',\n",
       " 'region 4, West',\n",
       " 'region 4, West',\n",
       " 'region 4, West',\n",
       " 'region 4, West',\n",
       " 'region 4, West',\n",
       " 'region 4, West',\n",
       " 'region 4, West',\n",
       " 'region 4, West',\n",
       " 'region 4, West',\n",
       " 'region 4, West',\n",
       " 'region 4, West',\n",
       " 'region 4, West',\n",
       " 'region 4, West',\n",
       " 'region 4, West',\n",
       " 'region 4, West',\n",
       " 'region 4, West',\n",
       " 'region 4, West',\n",
       " 'region 4, West',\n",
       " 'region 4, West',\n",
       " 'region 4, West',\n",
       " 'region 4, West',\n",
       " 'region 4, West',\n",
       " 'region 4, West',\n",
       " 'region 4, West',\n",
       " 'region 4, West',\n",
       " 'region 4, West',\n",
       " 'region 4, West',\n",
       " 'region 4, West',\n",
       " 'region 4, West',\n",
       " 'region 4, West',\n",
       " 'region 4, West',\n",
       " 'region 4, West',\n",
       " 'region 4, West',\n",
       " 'region 4, West',\n",
       " 'region 4, West',\n",
       " 'region 4, West',\n",
       " 'region 4, West',\n",
       " 'region 4, West',\n",
       " 'region 4, West',\n",
       " 'region 4, West',\n",
       " 'region 4, West',\n",
       " 'region 4, West',\n",
       " 'region 4, West',\n",
       " 'region 4, West',\n",
       " 'region 4, West',\n",
       " 'region 4, West',\n",
       " 'region 4, West',\n",
       " 'region 4, West',\n",
       " 'region 4, West',\n",
       " 'region 4, West',\n",
       " 'region 4, West',\n",
       " 'region 4, West',\n",
       " 'region 4, West',\n",
       " 'region 4, West',\n",
       " 'region 4, West',\n",
       " 'region 4, West',\n",
       " 'region 4, West',\n",
       " 'region 4, West',\n",
       " 'region 4, West',\n",
       " 'region 4, West',\n",
       " 'region 4, West',\n",
       " 'region 4, West',\n",
       " 'region 4, West',\n",
       " 'region 4, West',\n",
       " 'region 4, West',\n",
       " 'region 4, West',\n",
       " 'region 4, West',\n",
       " 'region 4, West',\n",
       " 'region 4, West',\n",
       " 'region 4, West',\n",
       " 'region 4, West',\n",
       " 'region 4, West',\n",
       " 'region 4, West',\n",
       " 'region 4, West',\n",
       " 'region 4, West',\n",
       " 'region 4, West',\n",
       " 'region 4, West',\n",
       " 'region 4, West',\n",
       " 'region 4, West',\n",
       " 'region 4, West',\n",
       " 'region 4, West',\n",
       " 'region 4, West',\n",
       " 'region 4, West',\n",
       " 'region 4, West',\n",
       " 'region 4, West',\n",
       " 'region 4, West',\n",
       " 'region 4, West',\n",
       " 'region 4, West',\n",
       " 'region 4, West',\n",
       " 'region 4, West',\n",
       " 'region 4, West',\n",
       " 'region 4, West',\n",
       " 'region 4, West',\n",
       " 'region 4, West',\n",
       " 'region 4, West',\n",
       " 'region 4, West',\n",
       " 'region 4, West',\n",
       " 'region 4, West',\n",
       " 'region 4, West',\n",
       " 'region 4, West',\n",
       " 'region 4, West',\n",
       " 'region 4, West',\n",
       " 'region 4, West',\n",
       " 'region 4, West',\n",
       " 'region 4, West',\n",
       " 'region 4, West',\n",
       " 'region 4, West',\n",
       " 'region 4, West',\n",
       " 'region 4, West',\n",
       " 'region 4, West',\n",
       " 'region 4, West',\n",
       " 'region 4, West',\n",
       " 'region 4, West',\n",
       " 'region 4, West',\n",
       " 'region 4, West',\n",
       " 'region 4, West',\n",
       " 'region 4, West',\n",
       " 'region 4, West',\n",
       " 'region 4, West',\n",
       " 'region 4, West',\n",
       " 'region 4, West',\n",
       " 'region 4, West',\n",
       " 'region 4, West',\n",
       " 'region 4, West',\n",
       " 'region 4, West',\n",
       " 'region 4, West',\n",
       " 'region 4, West',\n",
       " 'region 4, West',\n",
       " 'region 4, West',\n",
       " 'region 4, West',\n",
       " 'region 4, West',\n",
       " 'region 4, West',\n",
       " 'region 4, West',\n",
       " 'region 4, West',\n",
       " 'region 4, West',\n",
       " 'region 4, West',\n",
       " 'region 4, West',\n",
       " 'region 3, South',\n",
       " 'region 3, South',\n",
       " 'region 3, South',\n",
       " 'region 3, South',\n",
       " 'region 3, South',\n",
       " 'region 3, South',\n",
       " 'region 3, South',\n",
       " 'region 3, South',\n",
       " 'region 3, South',\n",
       " 'region 3, South',\n",
       " 'region 3, South',\n",
       " 'region 3, South',\n",
       " 'region 3, South',\n",
       " 'region 3, South',\n",
       " 'region 3, South',\n",
       " 'region 3, South',\n",
       " 'region 3, South',\n",
       " 'region 3, South',\n",
       " 'region 3, South',\n",
       " 'region 3, South',\n",
       " 'region 3, South',\n",
       " 'region 3, South',\n",
       " 'region 3, South',\n",
       " 'region 3, South',\n",
       " 'region 3, South',\n",
       " 'region 3, South',\n",
       " 'region 3, South',\n",
       " 'region 3, South',\n",
       " 'region 3, South',\n",
       " 'region 3, South',\n",
       " 'region 3, South',\n",
       " 'region 3, South',\n",
       " 'region 3, South',\n",
       " 'region 3, South',\n",
       " 'region 3, South',\n",
       " 'region 3, South',\n",
       " 'region 3, South',\n",
       " 'region 3, South',\n",
       " 'region 3, South',\n",
       " 'region 3, South',\n",
       " 'region 3, South',\n",
       " 'region 3, South',\n",
       " 'region 3, South',\n",
       " 'region 3, South',\n",
       " 'region 3, South',\n",
       " 'region 3, South',\n",
       " 'region 3, South',\n",
       " 'region 3, South',\n",
       " 'region 3, South',\n",
       " 'region 3, South',\n",
       " 'region 3, South',\n",
       " 'region 3, South',\n",
       " 'region 3, South',\n",
       " 'region 3, South',\n",
       " 'region 3, South',\n",
       " 'region 3, South',\n",
       " 'region 3, South',\n",
       " 'region 3, South',\n",
       " 'region 3, South',\n",
       " 'region 3, South',\n",
       " 'region 3, South',\n",
       " 'region 3, South',\n",
       " 'region 3, South',\n",
       " 'region 3, South',\n",
       " 'region 3, South',\n",
       " 'region 3, South',\n",
       " 'region 3, South',\n",
       " 'region 3, South',\n",
       " 'region 3, South',\n",
       " 'region 3, South',\n",
       " 'region 3, South',\n",
       " 'region 3, South',\n",
       " 'region 3, South',\n",
       " 'region 3, South',\n",
       " 'region 3, South',\n",
       " 'region 3, South',\n",
       " 'region 3, South',\n",
       " 'region 3, South',\n",
       " 'region 3, South',\n",
       " 'region 3, South',\n",
       " 'region 3, South',\n",
       " 'region 3, South',\n",
       " 'region 3, South',\n",
       " 'region 3, South',\n",
       " 'region 3, South',\n",
       " 'region 3, South',\n",
       " 'region 3, South',\n",
       " 'region 3, South',\n",
       " 'region 3, South',\n",
       " 'region 3, South',\n",
       " 'region 3, South',\n",
       " 'region 3, South',\n",
       " 'region 3, South',\n",
       " 'region 3, South',\n",
       " 'region 3, South',\n",
       " 'region 3, South',\n",
       " 'region 3, South',\n",
       " 'region 3, South',\n",
       " 'region 3, South',\n",
       " 'region 3, South',\n",
       " 'region 3, South',\n",
       " 'region 3, South',\n",
       " 'region 3, South',\n",
       " 'region 3, South',\n",
       " 'region 3, South',\n",
       " 'region 3, South',\n",
       " 'region 3, South',\n",
       " 'region 3, South',\n",
       " 'region 3, South',\n",
       " 'region 3, South',\n",
       " 'region 3, South',\n",
       " 'region 3, South',\n",
       " 'region 3, South',\n",
       " 'region 3, South',\n",
       " 'region 3, South',\n",
       " 'region 3, South',\n",
       " 'region 3, South',\n",
       " 'region 3, South',\n",
       " 'region 3, South',\n",
       " 'region 3, South',\n",
       " 'region 3, South',\n",
       " 'region 3, South',\n",
       " 'region 3, South',\n",
       " 'region 3, South',\n",
       " 'region 3, South',\n",
       " 'region 3, South',\n",
       " 'region 3, South',\n",
       " 'region 3, South',\n",
       " 'region 3, South',\n",
       " 'region 3, South',\n",
       " 'region 3, South',\n",
       " 'region 3, South',\n",
       " 'region 3, South',\n",
       " 'region 3, South',\n",
       " 'region 3, South',\n",
       " 'region 3, South',\n",
       " 'region 3, South',\n",
       " 'region 3, South',\n",
       " 'region 3, South',\n",
       " 'region 3, South',\n",
       " 'region 3, South',\n",
       " 'region 3, South',\n",
       " 'region 3, South',\n",
       " 'region 3, South',\n",
       " 'region 3, South',\n",
       " 'region 3, South',\n",
       " 'region 3, South',\n",
       " 'region 3, South',\n",
       " 'region 3, South',\n",
       " 'region 3, South',\n",
       " 'region 3, South',\n",
       " 'region 3, South',\n",
       " 'region 3, South',\n",
       " 'region 3, South',\n",
       " 'region 3, South',\n",
       " 'region 3, South',\n",
       " 'region 3, South',\n",
       " 'region 3, South',\n",
       " 'region 3, South',\n",
       " 'region 3, South',\n",
       " 'region 3, South',\n",
       " 'region 3, South',\n",
       " 'region 3, South',\n",
       " 'region 3, South',\n",
       " 'region 3, South',\n",
       " 'region 3, South',\n",
       " 'region 3, South',\n",
       " 'region 3, South',\n",
       " 'region 3, South',\n",
       " 'region 3, South',\n",
       " 'region 3, South',\n",
       " 'region 3, South',\n",
       " 'region 3, South',\n",
       " 'region 3, South',\n",
       " 'region 3, South',\n",
       " 'region 3, South',\n",
       " 'region 3, South',\n",
       " 'region 3, South',\n",
       " 'region 3, South',\n",
       " 'region 3, South',\n",
       " 'region 3, South',\n",
       " 'region 3, South',\n",
       " 'region 3, South',\n",
       " 'region 3, South',\n",
       " 'region 3, South',\n",
       " 'region 3, South',\n",
       " 'region 3, South',\n",
       " 'region 3, South',\n",
       " 'region 3, South',\n",
       " 'region 3, South',\n",
       " 'region 3, South',\n",
       " 'region 3, South',\n",
       " 'region 3, South',\n",
       " 'region 3, South',\n",
       " 'region 3, South',\n",
       " 'region 3, South',\n",
       " 'region 3, South',\n",
       " 'region 3, South',\n",
       " 'region 3, South',\n",
       " 'region 3, South',\n",
       " 'region 3, South',\n",
       " 'region 3, South',\n",
       " 'region 3, South',\n",
       " 'region 3, South',\n",
       " 'region 3, South',\n",
       " 'region 3, South',\n",
       " 'region 3, South',\n",
       " 'region 3, South',\n",
       " 'region 3, South',\n",
       " 'region 3, South',\n",
       " 'region 3, South',\n",
       " 'region 3, South',\n",
       " 'region 3, South',\n",
       " 'region 3, South',\n",
       " 'region 3, South',\n",
       " 'region 3, South',\n",
       " 'region 3, South',\n",
       " 'region 3, South',\n",
       " 'region 3, South',\n",
       " 'region 3, South',\n",
       " 'region 3, South',\n",
       " 'region 3, South',\n",
       " 'region 3, South',\n",
       " 'region 3, South',\n",
       " 'region 3, South',\n",
       " 'region 3, South',\n",
       " 'region 3, South',\n",
       " 'region 3, South',\n",
       " 'region 3, South',\n",
       " 'region 3, South',\n",
       " 'region 3, South',\n",
       " 'region 3, South',\n",
       " 'region 3, South',\n",
       " 'region 3, South',\n",
       " 'region 3, South',\n",
       " 'region 3, South',\n",
       " 'region 3, South',\n",
       " 'region 3, South',\n",
       " 'region 3, South',\n",
       " 'region 3, South',\n",
       " 'region 3, South',\n",
       " 'region 3, South',\n",
       " 'region 3, South',\n",
       " 'region 3, South',\n",
       " 'region 3, South',\n",
       " 'region 3, South',\n",
       " 'region 3, South',\n",
       " 'region 3, South',\n",
       " 'region 3, South',\n",
       " 'region 3, South',\n",
       " 'region 3, South',\n",
       " 'region 3, South',\n",
       " 'region 3, South',\n",
       " 'region 3, South',\n",
       " 'region 3, South',\n",
       " 'region 3, South',\n",
       " 'region 3, South',\n",
       " 'region 3, South',\n",
       " 'region 3, South',\n",
       " 'region 3, South',\n",
       " 'region 3, South',\n",
       " 'region 3, South',\n",
       " 'region 3, South',\n",
       " 'region 3, South',\n",
       " 'region 3, South',\n",
       " 'region 3, South',\n",
       " 'region 3, South',\n",
       " 'region 3, South',\n",
       " 'region 3, South',\n",
       " 'region 3, South',\n",
       " 'region 3, South',\n",
       " 'region 3, South',\n",
       " 'region 3, South',\n",
       " 'region 3, South',\n",
       " 'region 3, South',\n",
       " 'region 3, South',\n",
       " 'region 3, South',\n",
       " 'region 3, South',\n",
       " 'region 3, South',\n",
       " 'region 3, South',\n",
       " 'region 3, South',\n",
       " 'region 3, South',\n",
       " 'region 3, South',\n",
       " 'region 3, South',\n",
       " 'region 3, South',\n",
       " 'region 3, South',\n",
       " 'region 3, South',\n",
       " 'region 3, South',\n",
       " 'region 3, South',\n",
       " 'region 3, South',\n",
       " 'region 3, South',\n",
       " 'region 3, South',\n",
       " 'region 3, South',\n",
       " 'region 3, South',\n",
       " 'region 3, South',\n",
       " 'region 3, South',\n",
       " 'region 3, South',\n",
       " 'region 3, South',\n",
       " 'region 3, South',\n",
       " 'region 3, South',\n",
       " 'region 3, South',\n",
       " 'region 3, South',\n",
       " 'region 3, South',\n",
       " 'region 3, South',\n",
       " 'region 3, South',\n",
       " 'region 3, South',\n",
       " 'region 3, South',\n",
       " 'region 3, South',\n",
       " 'region 3, South',\n",
       " 'region 3, South',\n",
       " 'region 3, South',\n",
       " 'region 3, South',\n",
       " 'region 3, South',\n",
       " 'region 3, South',\n",
       " 'region 3, South',\n",
       " 'region 3, South',\n",
       " 'region 3, South',\n",
       " 'region 3, South',\n",
       " 'region 3, South',\n",
       " 'region 3, South',\n",
       " 'region 3, South',\n",
       " 'region 3, South',\n",
       " 'region 3, South',\n",
       " 'region 3, South',\n",
       " 'region 3, South',\n",
       " 'region 3, South',\n",
       " 'region 3, South',\n",
       " 'region 3, South',\n",
       " 'region 3, South',\n",
       " 'region 3, South',\n",
       " 'region 3, South',\n",
       " 'region 3, South',\n",
       " 'region 3, South',\n",
       " 'region 3, South',\n",
       " 'region 3, South',\n",
       " 'region 3, South',\n",
       " 'region 3, South',\n",
       " 'region 3, South',\n",
       " 'region 3, South',\n",
       " 'region 3, South',\n",
       " 'region 3, South',\n",
       " 'region 3, South',\n",
       " 'region 3, South',\n",
       " 'region 3, South',\n",
       " 'region 3, South',\n",
       " 'region 3, South',\n",
       " 'region 3, South',\n",
       " 'region 3, South',\n",
       " 'region 3, South',\n",
       " 'region 3, South',\n",
       " 'region 3, South',\n",
       " 'region 3, South',\n",
       " 'region 3, South',\n",
       " 'region 3, South',\n",
       " 'region 3, South',\n",
       " 'region 3, South',\n",
       " 'region 3, South',\n",
       " 'region 3, South',\n",
       " 'region 3, South',\n",
       " 'region 3, South',\n",
       " 'region 3, South',\n",
       " 'region 3, South',\n",
       " 'region 3, South',\n",
       " 'region 3, South',\n",
       " 'region 3, South',\n",
       " 'region 3, South',\n",
       " 'region 3, South',\n",
       " 'region 3, South',\n",
       " 'region 3, South',\n",
       " 'region 3, South',\n",
       " 'region 3, South',\n",
       " 'region 3, South',\n",
       " 'region 3, South',\n",
       " 'region 3, South',\n",
       " 'region 3, South',\n",
       " 'region 3, South',\n",
       " 'region 3, South',\n",
       " 'region 3, South',\n",
       " 'region 3, South',\n",
       " 'region 3, South',\n",
       " 'region 3, South',\n",
       " 'region 3, South',\n",
       " 'region 3, South',\n",
       " 'region 3, South',\n",
       " 'region 3, South',\n",
       " 'region 3, South',\n",
       " 'region 3, South',\n",
       " 'region 3, South',\n",
       " 'region 3, South',\n",
       " 'region 3, South',\n",
       " 'region 3, South',\n",
       " 'region 3, South',\n",
       " 'region 3, South',\n",
       " 'region 3, South',\n",
       " 'region 3, South',\n",
       " 'region 3, South',\n",
       " 'region 3, South',\n",
       " 'region 3, South',\n",
       " 'region 3, South',\n",
       " 'region 3, South',\n",
       " 'region 3, South',\n",
       " 'region 3, South',\n",
       " 'region 3, South',\n",
       " 'region 3, South',\n",
       " 'region 3, South',\n",
       " 'region 3, South',\n",
       " 'region 3, South',\n",
       " 'region 3, South',\n",
       " 'region 3, South',\n",
       " 'region 3, South',\n",
       " 'region 3, South',\n",
       " 'region 3, South',\n",
       " 'region 3, South',\n",
       " 'region 3, South',\n",
       " 'region 3, South',\n",
       " 'region 3, South',\n",
       " 'region 3, South',\n",
       " 'region 3, South',\n",
       " 'region 3, South',\n",
       " 'region 3, South',\n",
       " 'region 3, South',\n",
       " 'region 3, South',\n",
       " 'region 3, South',\n",
       " 'region 3, South',\n",
       " 'region 3, South',\n",
       " 'region 3, South',\n",
       " 'region 3, South',\n",
       " 'region 3, South',\n",
       " 'region 3, South',\n",
       " 'region 3, South',\n",
       " 'region 3, South',\n",
       " 'region 3, South',\n",
       " 'region 3, South',\n",
       " 'region 3, South',\n",
       " 'region 3, South',\n",
       " 'region 3, South',\n",
       " 'region 3, South',\n",
       " 'region 3, South',\n",
       " 'region 3, South',\n",
       " 'region 3, South',\n",
       " 'region 3, South',\n",
       " 'region 3, South',\n",
       " 'region 3, South',\n",
       " 'region 3, South',\n",
       " 'region 3, South',\n",
       " 'region 3, South',\n",
       " 'region 3, South',\n",
       " 'region 3, South',\n",
       " 'region 3, South',\n",
       " 'region 3, South',\n",
       " 'region 3, South',\n",
       " 'region 3, South',\n",
       " 'region 3, South',\n",
       " 'region 3, South',\n",
       " 'region 3, South',\n",
       " 'region 3, South',\n",
       " 'region 3, South',\n",
       " 'region 3, South',\n",
       " 'region 3, South',\n",
       " 'region 3, South',\n",
       " ...]"
      ]
     },
     "execution_count": 13,
     "metadata": {},
     "output_type": "execute_result"
    }
   ],
   "source": [
    "#viewing the results\n",
    "result"
   ]
  },
  {
   "cell_type": "code",
   "execution_count": 14,
   "id": "48e0afb6",
   "metadata": {},
   "outputs": [],
   "source": [
    "# creating new column to store region information in dataframe\n",
    "df_complete['region'] = result"
   ]
  },
  {
   "cell_type": "code",
   "execution_count": 15,
   "id": "a0037112",
   "metadata": {},
   "outputs": [
    {
     "data": {
      "text/plain": [
       "region\n",
       "region 3, South        10791885\n",
       "region 4, West          8292913\n",
       "region 2, Midwest       7597325\n",
       "region 1, Northeast     5722736\n",
       "Name: count, dtype: int64"
      ]
     },
     "execution_count": 15,
     "metadata": {},
     "output_type": "execute_result"
    }
   ],
   "source": [
    "# checking information\n",
    "df_complete['region'].value_counts(dropna = False)"
   ]
  },
  {
   "cell_type": "code",
   "execution_count": 16,
   "id": "52b1cd1f",
   "metadata": {},
   "outputs": [
    {
     "data": {
      "image/png": "[encoded data removed]",
      "text/plain": [
       "<Figure size 640x480 with 1 Axes>"
      ]
     },
     "metadata": {},
     "output_type": "display_data"
    }
   ],
   "source": [
    "bar1 = df_complete['region'].value_counts().plot.bar()"
   ]
  },
  {
   "cell_type": "code",
   "execution_count": 17,
   "id": "b8066f5d",
   "metadata": {},
   "outputs": [],
   "source": [
    "# Creating crosstab between regions and spender_flag\n",
    "crosstab = pd.crosstab(df_complete['region'], df_complete['spender_flag'], dropna = False)"
   ]
  },
  {
   "cell_type": "code",
   "execution_count": 18,
   "id": "7e061403",
   "metadata": {},
   "outputs": [
    {
     "data": {
      "text/html": [
       "<div>\n",
       "<style scoped>\n",
       "    .dataframe tbody tr th:only-of-type {\n",
       "        vertical-align: middle;\n",
       "    }\n",
       "\n",
       "    .dataframe tbody tr th {\n",
       "        vertical-align: top;\n",
       "    }\n",
       "\n",
       "    .dataframe thead th {\n",
       "        text-align: right;\n",
       "    }\n",
       "</style>\n",
       "<table border=\"1\" class=\"dataframe\">\n",
       "  <thead>\n",
       "    <tr style=\"text-align: right;\">\n",
       "      <th>spender_flag</th>\n",
       "      <th>High_spender</th>\n",
       "      <th>Low_spender</th>\n",
       "    </tr>\n",
       "    <tr>\n",
       "      <th>region</th>\n",
       "      <th></th>\n",
       "      <th></th>\n",
       "    </tr>\n",
       "  </thead>\n",
       "  <tbody>\n",
       "    <tr>\n",
       "      <th>region 1, Northeast</th>\n",
       "      <td>108225</td>\n",
       "      <td>5614511</td>\n",
       "    </tr>\n",
       "    <tr>\n",
       "      <th>region 2, Midwest</th>\n",
       "      <td>155975</td>\n",
       "      <td>7441350</td>\n",
       "    </tr>\n",
       "    <tr>\n",
       "      <th>region 3, South</th>\n",
       "      <td>209691</td>\n",
       "      <td>10582194</td>\n",
       "    </tr>\n",
       "    <tr>\n",
       "      <th>region 4, West</th>\n",
       "      <td>160354</td>\n",
       "      <td>8132559</td>\n",
       "    </tr>\n",
       "  </tbody>\n",
       "</table>\n",
       "</div>"
      ],
      "text/plain": [
       "spender_flag         High_spender  Low_spender\n",
       "region                                        \n",
       "region 1, Northeast        108225      5614511\n",
       "region 2, Midwest          155975      7441350\n",
       "region 3, South            209691     10582194\n",
       "region 4, West             160354      8132559"
      ]
     },
     "execution_count": 18,
     "metadata": {},
     "output_type": "execute_result"
    }
   ],
   "source": [
    "# checking crosstab\n",
    "crosstab"
   ]
  },
  {
   "cell_type": "code",
   "execution_count": 19,
   "id": "e85adb60",
   "metadata": {},
   "outputs": [
    {
     "data": {
      "image/png": "[encoded data removed]",
      "text/plain": [
       "<Figure size 640x480 with 1 Axes>"
      ]
     },
     "metadata": {},
     "output_type": "display_data"
    }
   ],
   "source": [
    "#plotting bar chart\n",
    "spender_flag_vs_region = crosstab.plot(kind=\"bar\", stacked=True, rot=0, color=['#2ca02c', '#9467bd'])\n",
    "\n"
   ]
  },
  {
   "cell_type": "markdown",
   "id": "80d510a4",
   "metadata": {},
   "source": [
    "The south region has the biggest amount of lower senders."
   ]
  },
  {
   "cell_type": "code",
   "execution_count": 20,
   "id": "a9713f56",
   "metadata": {},
   "outputs": [],
   "source": [
    "# Creating crosstab between regions and frequency flag\n",
    "crosstab1 = pd.crosstab(df_complete['region'], df_complete['frequency_flag'], dropna = False)"
   ]
  },
  {
   "cell_type": "code",
   "execution_count": 21,
   "id": "9514fc18",
   "metadata": {},
   "outputs": [
    {
     "data": {
      "text/html": [
       "<div>\n",
       "<style scoped>\n",
       "    .dataframe tbody tr th:only-of-type {\n",
       "        vertical-align: middle;\n",
       "    }\n",
       "\n",
       "    .dataframe tbody tr th {\n",
       "        vertical-align: top;\n",
       "    }\n",
       "\n",
       "    .dataframe thead th {\n",
       "        text-align: right;\n",
       "    }\n",
       "</style>\n",
       "<table border=\"1\" class=\"dataframe\">\n",
       "  <thead>\n",
       "    <tr style=\"text-align: right;\">\n",
       "      <th>frequency_flag</th>\n",
       "      <th>Frequent Customer</th>\n",
       "      <th>Non_frequent_customer</th>\n",
       "      <th>Regular customer</th>\n",
       "    </tr>\n",
       "    <tr>\n",
       "      <th>region</th>\n",
       "      <th></th>\n",
       "      <th></th>\n",
       "      <th></th>\n",
       "    </tr>\n",
       "  </thead>\n",
       "  <tbody>\n",
       "    <tr>\n",
       "      <th>region 1, Northeast</th>\n",
       "      <td>4022241</td>\n",
       "      <td>469934</td>\n",
       "      <td>1230561</td>\n",
       "    </tr>\n",
       "    <tr>\n",
       "      <th>region 2, Midwest</th>\n",
       "      <td>5304364</td>\n",
       "      <td>640082</td>\n",
       "      <td>1652879</td>\n",
       "    </tr>\n",
       "    <tr>\n",
       "      <th>region 3, South</th>\n",
       "      <td>7601261</td>\n",
       "      <td>897977</td>\n",
       "      <td>2292647</td>\n",
       "    </tr>\n",
       "    <tr>\n",
       "      <th>region 4, West</th>\n",
       "      <td>5862657</td>\n",
       "      <td>678735</td>\n",
       "      <td>1751521</td>\n",
       "    </tr>\n",
       "  </tbody>\n",
       "</table>\n",
       "</div>"
      ],
      "text/plain": [
       "frequency_flag       Frequent Customer  Non_frequent_customer  \\\n",
       "region                                                          \n",
       "region 1, Northeast            4022241                 469934   \n",
       "region 2, Midwest              5304364                 640082   \n",
       "region 3, South                7601261                 897977   \n",
       "region 4, West                 5862657                 678735   \n",
       "\n",
       "frequency_flag       Regular customer  \n",
       "region                                 \n",
       "region 1, Northeast           1230561  \n",
       "region 2, Midwest             1652879  \n",
       "region 3, South               2292647  \n",
       "region 4, West                1751521  "
      ]
     },
     "execution_count": 21,
     "metadata": {},
     "output_type": "execute_result"
    }
   ],
   "source": [
    "#  checking crosstab1\n",
    "crosstab1"
   ]
  },
  {
   "cell_type": "code",
   "execution_count": 22,
   "id": "77447495",
   "metadata": {},
   "outputs": [
    {
     "data": {
      "image/png": "[encoded data removed]",
      "text/plain": [
       "<Figure size 640x480 with 1 Axes>"
      ]
     },
     "metadata": {},
     "output_type": "display_data"
    }
   ],
   "source": [
    "#plotting bar chart (stacked)\n",
    "regionvsfreq= crosstab1.plot(kind=\"bar\", stacked=True, rot=0)"
   ]
  },
  {
   "cell_type": "markdown",
   "id": "a29689d4",
   "metadata": {},
   "source": [
    "# The Instacart CFO isn’t interested in customers who don’t generate much revenue for the app. Create an exclusion flag for low-activity customers (customers with less than 5 orders) and exclude them from the data. Make sure you export this sample."
   ]
  },
  {
   "cell_type": "code",
   "execution_count": 23,
   "id": "b2f54914",
   "metadata": {},
   "outputs": [],
   "source": [
    "# categorizing using loc (max_order <= 4)\n",
    "df_complete.loc[(df_complete['max_order'] <= 4 ) , 'low_activity_flag'] = 'Low activity customer'"
   ]
  },
  {
   "cell_type": "code",
   "execution_count": 24,
   "id": "3622ea47",
   "metadata": {},
   "outputs": [],
   "source": [
    "# categorizing using loc (max_order >= 5)\n",
    "df_complete.loc[(df_complete['max_order'] >= 5 ) , 'low_activity_flag'] = 'Regular activity customer'"
   ]
  },
  {
   "cell_type": "code",
   "execution_count": 25,
   "id": "ae07413d",
   "metadata": {},
   "outputs": [
    {
     "data": {
      "text/plain": [
       "low_activity_flag\n",
       "Regular activity customer    30964564\n",
       "Low activity customer         1440295\n",
       "Name: count, dtype: int64"
      ]
     },
     "execution_count": 25,
     "metadata": {},
     "output_type": "execute_result"
    }
   ],
   "source": [
    "#checking categorization counts\n",
    "df_complete['low_activity_flag'].value_counts(dropna = False)"
   ]
  },
  {
   "cell_type": "code",
   "execution_count": 26,
   "id": "f24d541e",
   "metadata": {},
   "outputs": [],
   "source": [
    "# Creating exclusion subset\n",
    "df_complete_Regular_activity_customer =  df_complete[df_complete['low_activity_flag']=='Regular activity customer']"
   ]
  },
  {
   "cell_type": "code",
   "execution_count": 27,
   "id": "2d171a6f",
   "metadata": {},
   "outputs": [
    {
     "data": {
      "text/plain": [
       "low_activity_flag\n",
       "Regular activity customer    30964564\n",
       "Name: count, dtype: int64"
      ]
     },
     "execution_count": 27,
     "metadata": {},
     "output_type": "execute_result"
    }
   ],
   "source": [
    "#checking categorization counts\n",
    "df_complete_Regular_activity_customer ['low_activity_flag'].value_counts(dropna = False)"
   ]
  },
  {
   "cell_type": "code",
   "execution_count": 28,
   "id": "e4408873",
   "metadata": {},
   "outputs": [],
   "source": [
    "# Exporting this subset as a PKL file\n",
    "df_complete_Regular_activity_customer.to_pickle(os.path.join(path, '02 Data','Prepared Data', 'regular_custs.pkl'))"
   ]
  },
  {
   "cell_type": "markdown",
   "id": "e9bf755a",
   "metadata": {},
   "source": [
    "# The marketing and business strategy units at Instacart want to create more-relevant marketing strategies for different products and are, thus, curious about customer profiling in their database. Create a profiling variable based on age, income, certain goods in the “department_id” column, and number of dependents. You might also use the “orders_day_of_week” and “order_hour_of_day” columns if you can think of a way they would impact customer profiles. (Hint: As an example, try thinking of what characteristics would lead you to the profile “Single adult” or “Young parent.”)"
   ]
  },
  {
   "cell_type": "code",
   "execution_count": 29,
   "id": "b7b31fbd",
   "metadata": {},
   "outputs": [
    {
     "data": {
      "text/plain": [
       "Age_Range\n",
       "Adult          14683356\n",
       "Young Adult     9146419\n",
       "Seniors         8575084\n",
       "Name: count, dtype: int64"
      ]
     },
     "execution_count": 29,
     "metadata": {},
     "output_type": "execute_result"
    }
   ],
   "source": [
    "# dividing customers into age groups, Age range 18-35 = Young Adult, Age range 35-64 = Adult, Age range greater than 64 = Senior, to to divide ages of customers\n",
    "df_complete.loc[(df_complete['age'] >= 18) & (df_complete['age'] <= 35), 'Age_Range'] = 'Young Adult'\n",
    "df_complete.loc[(df_complete['age'] > 35) & (df_complete['age'] <= 64), 'Age_Range'] = 'Adult'\n",
    "df_complete.loc[(df_complete['age'] > 64), 'Age_Range'] = 'Seniors'\n",
    "df_complete['Age_Range'].value_counts()   \n",
    " "
   ]
  },
  {
   "cell_type": "code",
   "execution_count": 30,
   "id": "48e151f4",
   "metadata": {},
   "outputs": [
    {
     "data": {
      "image/png": "[encoded data removed]",
      "text/plain": [
       "<Figure size 640x480 with 1 Axes>"
      ]
     },
     "metadata": {},
     "output_type": "display_data"
    }
   ],
   "source": [
    "# creating a pie chart with percents\n",
    "pie_chart = df_complete['Age_Range'].value_counts().plot.pie(autopct='%1.1f%%')"
   ]
  },
  {
   "cell_type": "markdown",
   "id": "d2fc2dbe",
   "metadata": {},
   "source": [
    "As we can see Adults (age between 35-64 has the highest customer count "
   ]
  },
  {
   "cell_type": "code",
   "execution_count": 31,
   "id": "79dbf5d3",
   "metadata": {},
   "outputs": [],
   "source": [
    "#Creating a crosstab to show the divisions in all age range categories across the regional divisions in the USA \n",
    "crosstab2 = pd.crosstab(df_complete['Age_Range'], df_complete['region'], dropna = False)"
   ]
  },
  {
   "cell_type": "code",
   "execution_count": 32,
   "id": "7ef779ce",
   "metadata": {},
   "outputs": [
    {
     "data": {
      "text/html": [
       "<div>\n",
       "<style scoped>\n",
       "    .dataframe tbody tr th:only-of-type {\n",
       "        vertical-align: middle;\n",
       "    }\n",
       "\n",
       "    .dataframe tbody tr th {\n",
       "        vertical-align: top;\n",
       "    }\n",
       "\n",
       "    .dataframe thead th {\n",
       "        text-align: right;\n",
       "    }\n",
       "</style>\n",
       "<table border=\"1\" class=\"dataframe\">\n",
       "  <thead>\n",
       "    <tr style=\"text-align: right;\">\n",
       "      <th>region</th>\n",
       "      <th>region 1, Northeast</th>\n",
       "      <th>region 2, Midwest</th>\n",
       "      <th>region 3, South</th>\n",
       "      <th>region 4, West</th>\n",
       "    </tr>\n",
       "    <tr>\n",
       "      <th>Age_Range</th>\n",
       "      <th></th>\n",
       "      <th></th>\n",
       "      <th></th>\n",
       "      <th></th>\n",
       "    </tr>\n",
       "  </thead>\n",
       "  <tbody>\n",
       "    <tr>\n",
       "      <th>Adult</th>\n",
       "      <td>2545530</td>\n",
       "      <td>3491746</td>\n",
       "      <td>4868567</td>\n",
       "      <td>3777513</td>\n",
       "    </tr>\n",
       "    <tr>\n",
       "      <th>Seniors</th>\n",
       "      <td>1553903</td>\n",
       "      <td>1990844</td>\n",
       "      <td>2836257</td>\n",
       "      <td>2194080</td>\n",
       "    </tr>\n",
       "    <tr>\n",
       "      <th>Young Adult</th>\n",
       "      <td>1623303</td>\n",
       "      <td>2114735</td>\n",
       "      <td>3087061</td>\n",
       "      <td>2321320</td>\n",
       "    </tr>\n",
       "  </tbody>\n",
       "</table>\n",
       "</div>"
      ],
      "text/plain": [
       "region       region 1, Northeast  region 2, Midwest  region 3, South  \\\n",
       "Age_Range                                                              \n",
       "Adult                    2545530            3491746          4868567   \n",
       "Seniors                  1553903            1990844          2836257   \n",
       "Young Adult              1623303            2114735          3087061   \n",
       "\n",
       "region       region 4, West  \n",
       "Age_Range                    \n",
       "Adult               3777513  \n",
       "Seniors             2194080  \n",
       "Young Adult         2321320  "
      ]
     },
     "execution_count": 32,
     "metadata": {},
     "output_type": "execute_result"
    }
   ],
   "source": [
    "# checking crosstab2\n",
    "crosstab2"
   ]
  },
  {
   "cell_type": "code",
   "execution_count": 33,
   "id": "12b78b83",
   "metadata": {},
   "outputs": [],
   "source": [
    "# Doing the same with percentages\n",
    "crosstab3 = pd.crosstab(df_complete['region'], df_complete['Age_Range'], normalize='index').multiply(100).round(4)\n"
   ]
  },
  {
   "cell_type": "code",
   "execution_count": 34,
   "id": "5cfbf54f",
   "metadata": {},
   "outputs": [
    {
     "data": {
      "text/html": [
       "<div>\n",
       "<style scoped>\n",
       "    .dataframe tbody tr th:only-of-type {\n",
       "        vertical-align: middle;\n",
       "    }\n",
       "\n",
       "    .dataframe tbody tr th {\n",
       "        vertical-align: top;\n",
       "    }\n",
       "\n",
       "    .dataframe thead th {\n",
       "        text-align: right;\n",
       "    }\n",
       "</style>\n",
       "<table border=\"1\" class=\"dataframe\">\n",
       "  <thead>\n",
       "    <tr style=\"text-align: right;\">\n",
       "      <th>Age_Range</th>\n",
       "      <th>Adult</th>\n",
       "      <th>Seniors</th>\n",
       "      <th>Young Adult</th>\n",
       "    </tr>\n",
       "    <tr>\n",
       "      <th>region</th>\n",
       "      <th></th>\n",
       "      <th></th>\n",
       "      <th></th>\n",
       "    </tr>\n",
       "  </thead>\n",
       "  <tbody>\n",
       "    <tr>\n",
       "      <th>region 1, Northeast</th>\n",
       "      <td>44.4810</td>\n",
       "      <td>27.1531</td>\n",
       "      <td>28.3659</td>\n",
       "    </tr>\n",
       "    <tr>\n",
       "      <th>region 2, Midwest</th>\n",
       "      <td>45.9602</td>\n",
       "      <td>26.2045</td>\n",
       "      <td>27.8353</td>\n",
       "    </tr>\n",
       "    <tr>\n",
       "      <th>region 3, South</th>\n",
       "      <td>45.1132</td>\n",
       "      <td>26.2814</td>\n",
       "      <td>28.6054</td>\n",
       "    </tr>\n",
       "    <tr>\n",
       "      <th>region 4, West</th>\n",
       "      <td>45.5511</td>\n",
       "      <td>26.4573</td>\n",
       "      <td>27.9916</td>\n",
       "    </tr>\n",
       "  </tbody>\n",
       "</table>\n",
       "</div>"
      ],
      "text/plain": [
       "Age_Range              Adult  Seniors  Young Adult\n",
       "region                                            \n",
       "region 1, Northeast  44.4810  27.1531      28.3659\n",
       "region 2, Midwest    45.9602  26.2045      27.8353\n",
       "region 3, South      45.1132  26.2814      28.6054\n",
       "region 4, West       45.5511  26.4573      27.9916"
      ]
     },
     "execution_count": 34,
     "metadata": {},
     "output_type": "execute_result"
    }
   ],
   "source": [
    "crosstab3"
   ]
  },
  {
   "cell_type": "code",
   "execution_count": 35,
   "id": "4539f4fc",
   "metadata": {},
   "outputs": [
    {
     "data": {
      "image/png": "[encoded data removed]",
      "text/plain": [
       "<Figure size 640x480 with 1 Axes>"
      ]
     },
     "metadata": {},
     "output_type": "display_data"
    }
   ],
   "source": [
    "#plotting bar chart (stacked)\n",
    "regionsvsagerange= crosstab2.plot(kind=\"bar\", stacked=True, rot=0)"
   ]
  },
  {
   "cell_type": "code",
   "execution_count": 36,
   "id": "b480d52c",
   "metadata": {},
   "outputs": [
    {
     "data": {
      "text/plain": [
       "income_flag\n",
       "Middle Class          28057885\n",
       "Lower Middle Class     3764233\n",
       "Poor                    523753\n",
       "Wealthy                  58988\n",
       "Name: count, dtype: int64"
      ]
     },
     "execution_count": 36,
     "metadata": {},
     "output_type": "execute_result"
    }
   ],
   "source": [
    "# Dividing income into brackets; $32,048 or less \"Poor, $32,048-$53,413 Lower-middle class, $53,413-$106,827 Middle class, $106,827-373,894 Upper-middle class, $373,894 and up Wealthy\n",
    "# creating income flags\n",
    "df_complete.loc[df_complete['income']<32048, 'income_flag'] = 'Poor'\n",
    "df_complete.loc[(df_complete['income']>=32048) & (df_complete['income']<=53413), 'income_flag'] = 'Lower Middle Class' \n",
    "df_complete.loc[(df_complete['income']>53413) & (df_complete['income']<=106827), 'income_flag'] = 'Middle Class'\n",
    "df_complete.loc[(df_complete['income']>106827) & (df_complete['income']<=373894), 'income_flag'] = 'Middle Class'\n",
    "df_complete.loc[df_complete['income']>373894, 'income_flag'] = 'Wealthy'\n",
    "df_complete['income_flag'].value_counts(dropna = False)"
   ]
  },
  {
   "cell_type": "code",
   "execution_count": 37,
   "id": "2ad45e51",
   "metadata": {},
   "outputs": [],
   "source": [
    "#Creating a crosstab to show the divisions in all age range categories across the income brackets\n",
    "crosstab4 = pd.crosstab(df_complete['Age_Range'], df_complete['income_flag'], dropna = False)"
   ]
  },
  {
   "cell_type": "code",
   "execution_count": 38,
   "id": "bc395194",
   "metadata": {},
   "outputs": [
    {
     "data": {
      "text/html": [
       "<div>\n",
       "<style scoped>\n",
       "    .dataframe tbody tr th:only-of-type {\n",
       "        vertical-align: middle;\n",
       "    }\n",
       "\n",
       "    .dataframe tbody tr th {\n",
       "        vertical-align: top;\n",
       "    }\n",
       "\n",
       "    .dataframe thead th {\n",
       "        text-align: right;\n",
       "    }\n",
       "</style>\n",
       "<table border=\"1\" class=\"dataframe\">\n",
       "  <thead>\n",
       "    <tr style=\"text-align: right;\">\n",
       "      <th>income_flag</th>\n",
       "      <th>Lower Middle Class</th>\n",
       "      <th>Middle Class</th>\n",
       "      <th>Poor</th>\n",
       "      <th>Wealthy</th>\n",
       "    </tr>\n",
       "    <tr>\n",
       "      <th>Age_Range</th>\n",
       "      <th></th>\n",
       "      <th></th>\n",
       "      <th></th>\n",
       "      <th></th>\n",
       "    </tr>\n",
       "  </thead>\n",
       "  <tbody>\n",
       "    <tr>\n",
       "      <th>Adult</th>\n",
       "      <td>1460444</td>\n",
       "      <td>13008623</td>\n",
       "      <td>180475</td>\n",
       "      <td>33814</td>\n",
       "    </tr>\n",
       "    <tr>\n",
       "      <th>Seniors</th>\n",
       "      <td>733526</td>\n",
       "      <td>7735632</td>\n",
       "      <td>85252</td>\n",
       "      <td>20674</td>\n",
       "    </tr>\n",
       "    <tr>\n",
       "      <th>Young Adult</th>\n",
       "      <td>1570263</td>\n",
       "      <td>7313630</td>\n",
       "      <td>258026</td>\n",
       "      <td>4500</td>\n",
       "    </tr>\n",
       "  </tbody>\n",
       "</table>\n",
       "</div>"
      ],
      "text/plain": [
       "income_flag  Lower Middle Class  Middle Class    Poor  Wealthy\n",
       "Age_Range                                                     \n",
       "Adult                   1460444      13008623  180475    33814\n",
       "Seniors                  733526       7735632   85252    20674\n",
       "Young Adult             1570263       7313630  258026     4500"
      ]
     },
     "execution_count": 38,
     "metadata": {},
     "output_type": "execute_result"
    }
   ],
   "source": [
    "crosstab4"
   ]
  },
  {
   "cell_type": "code",
   "execution_count": 39,
   "id": "24347d53",
   "metadata": {},
   "outputs": [],
   "source": [
    "# Creating a crosstab with percentages of the same information above\n",
    "crosstab5 = pd.crosstab(df_complete['Age_Range'], df_complete['income_flag'], normalize='index').multiply(100).round(4)\n"
   ]
  },
  {
   "cell_type": "code",
   "execution_count": 40,
   "id": "f4ba0d0c",
   "metadata": {},
   "outputs": [
    {
     "data": {
      "text/html": [
       "<div>\n",
       "<style scoped>\n",
       "    .dataframe tbody tr th:only-of-type {\n",
       "        vertical-align: middle;\n",
       "    }\n",
       "\n",
       "    .dataframe tbody tr th {\n",
       "        vertical-align: top;\n",
       "    }\n",
       "\n",
       "    .dataframe thead th {\n",
       "        text-align: right;\n",
       "    }\n",
       "</style>\n",
       "<table border=\"1\" class=\"dataframe\">\n",
       "  <thead>\n",
       "    <tr style=\"text-align: right;\">\n",
       "      <th>income_flag</th>\n",
       "      <th>Lower Middle Class</th>\n",
       "      <th>Middle Class</th>\n",
       "      <th>Poor</th>\n",
       "      <th>Wealthy</th>\n",
       "    </tr>\n",
       "    <tr>\n",
       "      <th>Age_Range</th>\n",
       "      <th></th>\n",
       "      <th></th>\n",
       "      <th></th>\n",
       "      <th></th>\n",
       "    </tr>\n",
       "  </thead>\n",
       "  <tbody>\n",
       "    <tr>\n",
       "      <th>Adult</th>\n",
       "      <td>9.9463</td>\n",
       "      <td>88.5943</td>\n",
       "      <td>1.2291</td>\n",
       "      <td>0.2303</td>\n",
       "    </tr>\n",
       "    <tr>\n",
       "      <th>Seniors</th>\n",
       "      <td>8.5542</td>\n",
       "      <td>90.2106</td>\n",
       "      <td>0.9942</td>\n",
       "      <td>0.2411</td>\n",
       "    </tr>\n",
       "    <tr>\n",
       "      <th>Young Adult</th>\n",
       "      <td>17.1681</td>\n",
       "      <td>79.9617</td>\n",
       "      <td>2.8211</td>\n",
       "      <td>0.0492</td>\n",
       "    </tr>\n",
       "  </tbody>\n",
       "</table>\n",
       "</div>"
      ],
      "text/plain": [
       "income_flag  Lower Middle Class  Middle Class    Poor  Wealthy\n",
       "Age_Range                                                     \n",
       "Adult                    9.9463       88.5943  1.2291   0.2303\n",
       "Seniors                  8.5542       90.2106  0.9942   0.2411\n",
       "Young Adult             17.1681       79.9617  2.8211   0.0492"
      ]
     },
     "execution_count": 40,
     "metadata": {},
     "output_type": "execute_result"
    }
   ],
   "source": [
    "crosstab5"
   ]
  },
  {
   "cell_type": "code",
   "execution_count": 41,
   "id": "f2e0b48b",
   "metadata": {},
   "outputs": [
    {
     "data": {
      "image/png": "[encoded data removed]",
      "text/plain": [
       "<Figure size 640x480 with 1 Axes>"
      ]
     },
     "metadata": {},
     "output_type": "display_data"
    }
   ],
   "source": [
    "#plotting bar chart (stacked)\n",
    "agerange_vs_class= crosstab4.plot(kind=\"bar\", stacked=True, rot=0)"
   ]
  },
  {
   "cell_type": "code",
   "execution_count": 42,
   "id": "924d4edd",
   "metadata": {},
   "outputs": [
    {
     "data": {
      "text/plain": [
       "time_of_day\n",
       "afternoon    13165968\n",
       "morning      10851768\n",
       "evening       4982461\n",
       "night         2808334\n",
       "overnight      377559\n",
       "nan            218769\n",
       "Name: count, dtype: int64"
      ]
     },
     "execution_count": 42,
     "metadata": {},
     "output_type": "execute_result"
    }
   ],
   "source": [
    "# Dividing time of day into its own categories; 12:00 am - 05:59 am = overnight, 06:00 - 11:59 morning, 12:00 pm - 04:59 pm = afternoon, 05:00 pm - 07:59 pm = evening,08:00 pm - 11:59 pm = night  \n",
    "       \n",
    "df_complete.loc[(df_complete['order_hour_of_day'] > 0) & (df_complete['order_hour_of_day'] < 6), 'time_of_day'] = 'overnight'\n",
    "df_complete.loc[(df_complete['order_hour_of_day'] >= 6) & (df_complete['order_hour_of_day'] < 12), 'time_of_day'] = 'morning'\n",
    "df_complete.loc[(df_complete['order_hour_of_day'] >= 12) & (df_complete['order_hour_of_day'] < 17), 'time_of_day'] = 'afternoon'\n",
    "df_complete.loc[(df_complete['order_hour_of_day'] >= 17) & (df_complete['order_hour_of_day'] < 20), 'time_of_day'] = 'evening'\n",
    "df_complete.loc[(df_complete['order_hour_of_day'] >= 20) & (df_complete['order_hour_of_day'] < 24), 'time_of_day'] = 'night'\n",
    "df_complete['time_of_day'].value_counts()"
   ]
  },
  {
   "cell_type": "code",
   "execution_count": 43,
   "id": "93dcc254",
   "metadata": {},
   "outputs": [],
   "source": [
    "# Creating crosstab between income flag and age range\n",
    "crosstab6 = pd.crosstab(df_complete['income_flag'], df_complete['Age_Range'], dropna = False)"
   ]
  },
  {
   "cell_type": "code",
   "execution_count": 44,
   "id": "6a030274",
   "metadata": {},
   "outputs": [
    {
     "data": {
      "text/html": [
       "<div>\n",
       "<style scoped>\n",
       "    .dataframe tbody tr th:only-of-type {\n",
       "        vertical-align: middle;\n",
       "    }\n",
       "\n",
       "    .dataframe tbody tr th {\n",
       "        vertical-align: top;\n",
       "    }\n",
       "\n",
       "    .dataframe thead th {\n",
       "        text-align: right;\n",
       "    }\n",
       "</style>\n",
       "<table border=\"1\" class=\"dataframe\">\n",
       "  <thead>\n",
       "    <tr style=\"text-align: right;\">\n",
       "      <th>Age_Range</th>\n",
       "      <th>Adult</th>\n",
       "      <th>Seniors</th>\n",
       "      <th>Young Adult</th>\n",
       "    </tr>\n",
       "    <tr>\n",
       "      <th>income_flag</th>\n",
       "      <th></th>\n",
       "      <th></th>\n",
       "      <th></th>\n",
       "    </tr>\n",
       "  </thead>\n",
       "  <tbody>\n",
       "    <tr>\n",
       "      <th>Lower Middle Class</th>\n",
       "      <td>1460444</td>\n",
       "      <td>733526</td>\n",
       "      <td>1570263</td>\n",
       "    </tr>\n",
       "    <tr>\n",
       "      <th>Middle Class</th>\n",
       "      <td>13008623</td>\n",
       "      <td>7735632</td>\n",
       "      <td>7313630</td>\n",
       "    </tr>\n",
       "    <tr>\n",
       "      <th>Poor</th>\n",
       "      <td>180475</td>\n",
       "      <td>85252</td>\n",
       "      <td>258026</td>\n",
       "    </tr>\n",
       "    <tr>\n",
       "      <th>Wealthy</th>\n",
       "      <td>33814</td>\n",
       "      <td>20674</td>\n",
       "      <td>4500</td>\n",
       "    </tr>\n",
       "  </tbody>\n",
       "</table>\n",
       "</div>"
      ],
      "text/plain": [
       "Age_Range              Adult  Seniors  Young Adult\n",
       "income_flag                                       \n",
       "Lower Middle Class   1460444   733526      1570263\n",
       "Middle Class        13008623  7735632      7313630\n",
       "Poor                  180475    85252       258026\n",
       "Wealthy                33814    20674         4500"
      ]
     },
     "execution_count": 44,
     "metadata": {},
     "output_type": "execute_result"
    }
   ],
   "source": [
    "crosstab6"
   ]
  },
  {
   "cell_type": "code",
   "execution_count": 45,
   "id": "43791fda",
   "metadata": {},
   "outputs": [],
   "source": [
    "# Creating subsets of Age Range\n",
    "df_Young_adults =  df_complete[df_complete['Age_Range']=='Young Adult']\n",
    "df_Adults =  df_complete[df_complete['Age_Range']=='Adult']\n",
    "df_Seniors =  df_complete[df_complete['Age_Range']=='Seniors']"
   ]
  },
  {
   "cell_type": "markdown",
   "id": "f3034a8d",
   "metadata": {},
   "source": [
    "Generate a suitable visualization to illustrate the distribution of profiles."
   ]
  },
  {
   "cell_type": "code",
   "execution_count": 46,
   "id": "52190e0c",
   "metadata": {},
   "outputs": [
    {
     "name": "stdout",
     "output_type": "stream",
     "text": [
      "<class 'pandas.core.frame.DataFrame'>\n",
      "Index: 9146419 entries, 0 to 32404858\n",
      "Data columns (total 35 columns):\n",
      " #   Column                  Dtype  \n",
      "---  ------                  -----  \n",
      " 0   order_id                int64  \n",
      " 1   user_id                 int64  \n",
      " 2   order_number            int64  \n",
      " 3   orders_day_of_week      int64  \n",
      " 4   order_hour_of_day       int64  \n",
      " 5   days_since_prior_order  float64\n",
      " 6   product_id              int64  \n",
      " 7   add_to_cart_order       int64  \n",
      " 8   reordered               int64  \n",
      " 9   product_name            object \n",
      " 10  aisle_id                int64  \n",
      " 11  department_id           int64  \n",
      " 12  prices                  float64\n",
      " 13  price_range_loc         object \n",
      " 14  busiest_day             object \n",
      " 15  busiest_days            object \n",
      " 16  busiest_period_of_day   object \n",
      " 17  max_order               int64  \n",
      " 18  loyalty_flag            object \n",
      " 19  average_spend           float64\n",
      " 20  spender_flag            object \n",
      " 21  Customer_frequency      float64\n",
      " 22  frequency_flag          object \n",
      " 23  gender                  object \n",
      " 24  state                   object \n",
      " 25  age                     int64  \n",
      " 26  date_joined             object \n",
      " 27  n_dependants            int64  \n",
      " 28  marital_status          object \n",
      " 29  income                  int64  \n",
      " 30  region                  object \n",
      " 31  low_activity_flag       object \n",
      " 32  Age_Range               object \n",
      " 33  income_flag             object \n",
      " 34  time_of_day             object \n",
      "dtypes: float64(4), int64(14), object(17)\n",
      "memory usage: 2.5+ GB\n"
     ]
    }
   ],
   "source": [
    "df_Young_adults.info()"
   ]
  },
  {
   "cell_type": "code",
   "execution_count": 47,
   "id": "e87c836e",
   "metadata": {},
   "outputs": [
    {
     "data": {
      "image/png": "[encoded data removed]",
      "text/plain": [
       "<Figure size 640x480 with 1 Axes>"
      ]
     },
     "metadata": {},
     "output_type": "display_data"
    }
   ],
   "source": [
    "# Creating a pie chart of time of day in the young adult category\n",
    "pie_chart1 = df_Young_adults['time_of_day'].value_counts().sort_index().plot.pie(autopct='%1.1f%%')\n"
   ]
  },
  {
   "cell_type": "code",
   "execution_count": 48,
   "id": "bdfdbf8f",
   "metadata": {},
   "outputs": [
    {
     "data": {
      "image/png": "[encoded data removed]",
      "text/plain": [
       "<Figure size 640x480 with 1 Axes>"
      ]
     },
     "metadata": {},
     "output_type": "display_data"
    }
   ],
   "source": [
    "# creating bar chart of dep id in young adult category\n",
    "bar2 = df_Young_adults['department_id'].value_counts().plot.bar()"
   ]
  },
  {
   "cell_type": "markdown",
   "id": "35732d6f",
   "metadata": {},
   "source": [
    "Young adult orders from department_id 4 and 16 mostly. --> Produce and Diary Eggs"
   ]
  },
  {
   "cell_type": "code",
   "execution_count": 49,
   "id": "e58c60e3",
   "metadata": {},
   "outputs": [],
   "source": [
    "# Importing orders_products_customers_aggregated.pkl\n",
    "df_departments = pd.read_csv(os.path.join(path, '02 Data', 'Original Data', 'departments.csv'))"
   ]
  },
  {
   "cell_type": "code",
   "execution_count": 50,
   "id": "d63c9b6e",
   "metadata": {},
   "outputs": [
    {
     "data": {
      "text/html": [
       "<div>\n",
       "<style scoped>\n",
       "    .dataframe tbody tr th:only-of-type {\n",
       "        vertical-align: middle;\n",
       "    }\n",
       "\n",
       "    .dataframe tbody tr th {\n",
       "        vertical-align: top;\n",
       "    }\n",
       "\n",
       "    .dataframe thead th {\n",
       "        text-align: right;\n",
       "    }\n",
       "</style>\n",
       "<table border=\"1\" class=\"dataframe\">\n",
       "  <thead>\n",
       "    <tr style=\"text-align: right;\">\n",
       "      <th></th>\n",
       "      <th>department_id</th>\n",
       "      <th>1</th>\n",
       "      <th>2</th>\n",
       "      <th>3</th>\n",
       "      <th>4</th>\n",
       "      <th>5</th>\n",
       "      <th>6</th>\n",
       "      <th>7</th>\n",
       "      <th>8</th>\n",
       "      <th>9</th>\n",
       "      <th>...</th>\n",
       "      <th>12</th>\n",
       "      <th>13</th>\n",
       "      <th>14</th>\n",
       "      <th>15</th>\n",
       "      <th>16</th>\n",
       "      <th>17</th>\n",
       "      <th>18</th>\n",
       "      <th>19</th>\n",
       "      <th>20</th>\n",
       "      <th>21</th>\n",
       "    </tr>\n",
       "  </thead>\n",
       "  <tbody>\n",
       "    <tr>\n",
       "      <th>0</th>\n",
       "      <td>department</td>\n",
       "      <td>frozen</td>\n",
       "      <td>other</td>\n",
       "      <td>bakery</td>\n",
       "      <td>produce</td>\n",
       "      <td>alcohol</td>\n",
       "      <td>international</td>\n",
       "      <td>beverages</td>\n",
       "      <td>pets</td>\n",
       "      <td>dry goods pasta</td>\n",
       "      <td>...</td>\n",
       "      <td>meat seafood</td>\n",
       "      <td>pantry</td>\n",
       "      <td>breakfast</td>\n",
       "      <td>canned goods</td>\n",
       "      <td>dairy eggs</td>\n",
       "      <td>household</td>\n",
       "      <td>babies</td>\n",
       "      <td>snacks</td>\n",
       "      <td>deli</td>\n",
       "      <td>missing</td>\n",
       "    </tr>\n",
       "  </tbody>\n",
       "</table>\n",
       "<p>1 rows × 22 columns</p>\n",
       "</div>"
      ],
      "text/plain": [
       "  department_id       1      2       3        4        5              6  \\\n",
       "0    department  frozen  other  bakery  produce  alcohol  international   \n",
       "\n",
       "           7     8                9  ...            12      13         14  \\\n",
       "0  beverages  pets  dry goods pasta  ...  meat seafood  pantry  breakfast   \n",
       "\n",
       "             15          16         17      18      19    20       21  \n",
       "0  canned goods  dairy eggs  household  babies  snacks  deli  missing  \n",
       "\n",
       "[1 rows x 22 columns]"
      ]
     },
     "execution_count": 50,
     "metadata": {},
     "output_type": "execute_result"
    }
   ],
   "source": [
    "df_departments.head()"
   ]
  },
  {
   "cell_type": "code",
   "execution_count": 51,
   "id": "e2e1a607",
   "metadata": {},
   "outputs": [
    {
     "data": {
      "image/png": "[encoded data removed]",
      "text/plain": [
       "<Figure size 640x480 with 1 Axes>"
      ]
     },
     "metadata": {},
     "output_type": "display_data"
    }
   ],
   "source": [
    "# creating bar chart of time of day in young adult category\n",
    "bar3 = df_Young_adults['income_flag'].value_counts().plot.bar()"
   ]
  },
  {
   "cell_type": "markdown",
   "id": "24329a91",
   "metadata": {},
   "source": [
    "The most of the young adults are in the middle class category"
   ]
  },
  {
   "cell_type": "code",
   "execution_count": 52,
   "id": "490c5bdf",
   "metadata": {},
   "outputs": [],
   "source": [
    "# Marking the above prices above 100 as missing\n",
    "df_Young_adults.loc[df_Young_adults['prices'] >100, 'prices'] = np.nan"
   ]
  },
  {
   "cell_type": "code",
   "execution_count": 53,
   "id": "299bf011",
   "metadata": {},
   "outputs": [
    {
     "data": {
      "image/png": "[encoded data removed]",
      "text/plain": [
       "<Figure size 640x480 with 1 Axes>"
      ]
     },
     "metadata": {},
     "output_type": "display_data"
    }
   ],
   "source": [
    "# Histogram young adult prices\n",
    "hist1 = df_Young_adults['prices'].plot.hist(bins = 40)"
   ]
  },
  {
   "cell_type": "markdown",
   "id": "d3a80c0d",
   "metadata": {},
   "source": [
    "Young adults typically spend less than $15 per order."
   ]
  },
  {
   "cell_type": "code",
   "execution_count": 54,
   "id": "054c612b",
   "metadata": {},
   "outputs": [
    {
     "data": {
      "image/png": "[encoded data removed]",
      "text/plain": [
       "<Figure size 640x480 with 1 Axes>"
      ]
     },
     "metadata": {},
     "output_type": "display_data"
    }
   ],
   "source": [
    "# Creating a pie chart of time of day in the adult category\n",
    "pie_chart2 = df_Adults['time_of_day'].value_counts().sort_index().plot.pie(autopct='%1.1f%%')"
   ]
  },
  {
   "cell_type": "markdown",
   "id": "5bbf4336",
   "metadata": {},
   "source": [
    "Adults mostly ordering in the afternoon 40,7% and in the morning 33,4%"
   ]
  },
  {
   "cell_type": "code",
   "execution_count": 55,
   "id": "258bd5e6",
   "metadata": {},
   "outputs": [
    {
     "data": {
      "image/png": "[encoded data removed]",
      "text/plain": [
       "<Figure size 640x480 with 1 Axes>"
      ]
     },
     "metadata": {},
     "output_type": "display_data"
    }
   ],
   "source": [
    "# creating bar chart of time of day in the adult category\n",
    "bar4 = df_Adults['department_id'].value_counts().plot.bar()"
   ]
  },
  {
   "cell_type": "markdown",
   "id": "d733f1c4",
   "metadata": {},
   "source": [
    "Adult orders from department_id 4 and 16 mostly. --> Produce and Diary Eggs"
   ]
  },
  {
   "cell_type": "code",
   "execution_count": 56,
   "id": "5fe4aff6",
   "metadata": {},
   "outputs": [
    {
     "data": {
      "image/png": "[encoded data removed]",
      "text/plain": [
       "<Figure size 640x480 with 1 Axes>"
      ]
     },
     "metadata": {},
     "output_type": "display_data"
    }
   ],
   "source": [
    "# creating bar chart of time of day in the adult category\n",
    "bar5 = df_Adults['income_flag'].value_counts().plot.bar()"
   ]
  },
  {
   "cell_type": "markdown",
   "id": "58174840",
   "metadata": {},
   "source": [
    "MOst of the Adults are in the middle class category"
   ]
  },
  {
   "cell_type": "code",
   "execution_count": 57,
   "id": "ecbd0a10",
   "metadata": {},
   "outputs": [],
   "source": [
    "# Marking the above prices above 100 as missing\n",
    "df_Adults.loc[df_Adults['prices'] >100, 'prices'] = np.nan"
   ]
  },
  {
   "cell_type": "code",
   "execution_count": 58,
   "id": "0d310329",
   "metadata": {},
   "outputs": [
    {
     "data": {
      "image/png": "[encoded data removed]",
      "text/plain": [
       "<Figure size 640x480 with 1 Axes>"
      ]
     },
     "metadata": {},
     "output_type": "display_data"
    }
   ],
   "source": [
    "# histogram on what adults spend\n",
    "hist2 = df_Adults['prices'].plot.hist(bins = 40)"
   ]
  },
  {
   "cell_type": "markdown",
   "id": "20a2af99",
   "metadata": {},
   "source": [
    "Adults typically spend less than $15 per order."
   ]
  },
  {
   "cell_type": "code",
   "execution_count": 59,
   "id": "fba2ce91",
   "metadata": {},
   "outputs": [
    {
     "data": {
      "image/png": "[encoded data removed]",
      "text/plain": [
       "<Figure size 640x480 with 1 Axes>"
      ]
     },
     "metadata": {},
     "output_type": "display_data"
    }
   ],
   "source": [
    "# Creating a pie chart of time of day in the adult category\n",
    "pie_chart3 = df_Seniors['time_of_day'].value_counts().sort_index().plot.pie(autopct='%1.1f%%')"
   ]
  },
  {
   "cell_type": "markdown",
   "id": "9a4e7719",
   "metadata": {},
   "source": [
    "Seniors mostly ordering in the afternoon 40,5% and in the morning 33,5%"
   ]
  },
  {
   "cell_type": "code",
   "execution_count": 60,
   "id": "11878d42",
   "metadata": {},
   "outputs": [
    {
     "data": {
      "image/png": "[encoded data removed]",
      "text/plain": [
       "<Figure size 640x480 with 1 Axes>"
      ]
     },
     "metadata": {},
     "output_type": "display_data"
    }
   ],
   "source": [
    "# creating bar chart of department id in the senior category\n",
    "bar6 = df_Seniors['department_id'].value_counts().plot.bar()"
   ]
  },
  {
   "cell_type": "markdown",
   "id": "22c28ba4",
   "metadata": {},
   "source": [
    "Seniors orders from department_id 4 and 16 mostly. --> Produce and Diary Eggs\n"
   ]
  },
  {
   "cell_type": "code",
   "execution_count": 61,
   "id": "9342608d",
   "metadata": {},
   "outputs": [
    {
     "data": {
      "image/png": "[encoded data removed]",
      "text/plain": [
       "<Figure size 640x480 with 1 Axes>"
      ]
     },
     "metadata": {},
     "output_type": "display_data"
    }
   ],
   "source": [
    "# creating bar chart of income flag in the senior\n",
    "bar7 = df_Seniors['income_flag'].value_counts().plot.bar()"
   ]
  },
  {
   "cell_type": "markdown",
   "id": "2a00aff6",
   "metadata": {},
   "source": [
    "MOst of the Seniors are in the middle class category"
   ]
  },
  {
   "cell_type": "code",
   "execution_count": 62,
   "id": "a8795f07",
   "metadata": {},
   "outputs": [],
   "source": [
    "# Marking the above prices above 100 as missing\n",
    "df_Seniors.loc[df_Seniors['prices'] >100, 'prices'] = np.nan"
   ]
  },
  {
   "cell_type": "code",
   "execution_count": 63,
   "id": "0dab4693",
   "metadata": {},
   "outputs": [
    {
     "data": {
      "image/png": "[encoded data removed]",
      "text/plain": [
       "<Figure size 640x480 with 1 Axes>"
      ]
     },
     "metadata": {},
     "output_type": "display_data"
    }
   ],
   "source": [
    "# histogram on what Seniors spend\n",
    "hist3 = df_Seniors['prices'].plot.hist(bins = 40)"
   ]
  },
  {
   "cell_type": "markdown",
   "id": "87966acb",
   "metadata": {},
   "source": [
    "Seniors typically spend less than $15 per order."
   ]
  },
  {
   "cell_type": "code",
   "execution_count": 64,
   "id": "da0d7781",
   "metadata": {},
   "outputs": [
    {
     "data": {
      "image/png": "[encoded data removed]",
      "text/plain": [
       "<Figure size 640x480 with 1 Axes>"
      ]
     },
     "metadata": {},
     "output_type": "display_data"
    }
   ],
   "source": [
    "# overall department_id data\n",
    "bar8 = df_complete['department_id'].value_counts().plot.bar()"
   ]
  },
  {
   "cell_type": "code",
   "execution_count": 65,
   "id": "651b4575",
   "metadata": {},
   "outputs": [
    {
     "data": {
      "image/png": "[encoded data removed]",
      "text/plain": [
       "<Figure size 640x480 with 1 Axes>"
      ]
     },
     "metadata": {},
     "output_type": "display_data"
    }
   ],
   "source": [
    "# Customer loyalty distribution\n",
    "pie_chart4 = df_complete['loyalty_flag'].value_counts().plot.pie(autopct='%1.1f%%', title='Customer Loyalty Distribution')\n"
   ]
  },
  {
   "cell_type": "code",
   "execution_count": 66,
   "id": "1ae47131",
   "metadata": {},
   "outputs": [
    {
     "data": {
      "text/plain": [
       "loyalty_flag\n",
       "Regular customer    15876776\n",
       "Loyal customer      10284093\n",
       "New customer         6243990\n",
       "Name: count, dtype: int64"
      ]
     },
     "execution_count": 66,
     "metadata": {},
     "output_type": "execute_result"
    }
   ],
   "source": [
    "#Showing counts of each category\n",
    "df_complete['loyalty_flag'].value_counts()"
   ]
  },
  {
   "cell_type": "code",
   "execution_count": 67,
   "id": "8cf736ab",
   "metadata": {},
   "outputs": [
    {
     "data": {
      "text/plain": [
       "frequency_flag\n",
       "Frequent Customer        22790523\n",
       "Regular customer          6927608\n",
       "Non_frequent_customer     2686728\n",
       "Name: count, dtype: int64"
      ]
     },
     "execution_count": 67,
     "metadata": {},
     "output_type": "execute_result"
    }
   ],
   "source": [
    "#looking at customer frequency column counts \n",
    "df_complete['frequency_flag'].value_counts()"
   ]
  },
  {
   "cell_type": "code",
   "execution_count": 68,
   "id": "ab1c2e12",
   "metadata": {},
   "outputs": [
    {
     "data": {
      "text/html": [
       "<div>\n",
       "<style scoped>\n",
       "    .dataframe tbody tr th:only-of-type {\n",
       "        vertical-align: middle;\n",
       "    }\n",
       "\n",
       "    .dataframe tbody tr th {\n",
       "        vertical-align: top;\n",
       "    }\n",
       "\n",
       "    .dataframe thead th {\n",
       "        text-align: right;\n",
       "    }\n",
       "</style>\n",
       "<table border=\"1\" class=\"dataframe\">\n",
       "  <thead>\n",
       "    <tr style=\"text-align: right;\">\n",
       "      <th></th>\n",
       "      <th>order_id</th>\n",
       "      <th>user_id</th>\n",
       "      <th>order_number</th>\n",
       "      <th>orders_day_of_week</th>\n",
       "      <th>order_hour_of_day</th>\n",
       "      <th>days_since_prior_order</th>\n",
       "      <th>product_id</th>\n",
       "      <th>add_to_cart_order</th>\n",
       "      <th>reordered</th>\n",
       "      <th>product_name</th>\n",
       "      <th>...</th>\n",
       "      <th>age</th>\n",
       "      <th>date_joined</th>\n",
       "      <th>n_dependants</th>\n",
       "      <th>marital_status</th>\n",
       "      <th>income</th>\n",
       "      <th>region</th>\n",
       "      <th>low_activity_flag</th>\n",
       "      <th>Age_Range</th>\n",
       "      <th>income_flag</th>\n",
       "      <th>time_of_day</th>\n",
       "    </tr>\n",
       "  </thead>\n",
       "  <tbody>\n",
       "    <tr>\n",
       "      <th>0</th>\n",
       "      <td>2539329</td>\n",
       "      <td>1</td>\n",
       "      <td>1</td>\n",
       "      <td>2</td>\n",
       "      <td>8</td>\n",
       "      <td>7.0</td>\n",
       "      <td>196</td>\n",
       "      <td>1</td>\n",
       "      <td>0</td>\n",
       "      <td>Soda</td>\n",
       "      <td>...</td>\n",
       "      <td>31</td>\n",
       "      <td>2/17/2019</td>\n",
       "      <td>3</td>\n",
       "      <td>married</td>\n",
       "      <td>40423</td>\n",
       "      <td>region 3, South</td>\n",
       "      <td>Regular activity customer</td>\n",
       "      <td>Young Adult</td>\n",
       "      <td>Lower Middle Class</td>\n",
       "      <td>morning</td>\n",
       "    </tr>\n",
       "    <tr>\n",
       "      <th>1</th>\n",
       "      <td>2398795</td>\n",
       "      <td>1</td>\n",
       "      <td>2</td>\n",
       "      <td>3</td>\n",
       "      <td>7</td>\n",
       "      <td>15.0</td>\n",
       "      <td>196</td>\n",
       "      <td>1</td>\n",
       "      <td>1</td>\n",
       "      <td>Soda</td>\n",
       "      <td>...</td>\n",
       "      <td>31</td>\n",
       "      <td>2/17/2019</td>\n",
       "      <td>3</td>\n",
       "      <td>married</td>\n",
       "      <td>40423</td>\n",
       "      <td>region 3, South</td>\n",
       "      <td>Regular activity customer</td>\n",
       "      <td>Young Adult</td>\n",
       "      <td>Lower Middle Class</td>\n",
       "      <td>morning</td>\n",
       "    </tr>\n",
       "    <tr>\n",
       "      <th>2</th>\n",
       "      <td>473747</td>\n",
       "      <td>1</td>\n",
       "      <td>3</td>\n",
       "      <td>3</td>\n",
       "      <td>12</td>\n",
       "      <td>21.0</td>\n",
       "      <td>196</td>\n",
       "      <td>1</td>\n",
       "      <td>1</td>\n",
       "      <td>Soda</td>\n",
       "      <td>...</td>\n",
       "      <td>31</td>\n",
       "      <td>2/17/2019</td>\n",
       "      <td>3</td>\n",
       "      <td>married</td>\n",
       "      <td>40423</td>\n",
       "      <td>region 3, South</td>\n",
       "      <td>Regular activity customer</td>\n",
       "      <td>Young Adult</td>\n",
       "      <td>Lower Middle Class</td>\n",
       "      <td>afternoon</td>\n",
       "    </tr>\n",
       "    <tr>\n",
       "      <th>3</th>\n",
       "      <td>2254736</td>\n",
       "      <td>1</td>\n",
       "      <td>4</td>\n",
       "      <td>4</td>\n",
       "      <td>7</td>\n",
       "      <td>29.0</td>\n",
       "      <td>196</td>\n",
       "      <td>1</td>\n",
       "      <td>1</td>\n",
       "      <td>Soda</td>\n",
       "      <td>...</td>\n",
       "      <td>31</td>\n",
       "      <td>2/17/2019</td>\n",
       "      <td>3</td>\n",
       "      <td>married</td>\n",
       "      <td>40423</td>\n",
       "      <td>region 3, South</td>\n",
       "      <td>Regular activity customer</td>\n",
       "      <td>Young Adult</td>\n",
       "      <td>Lower Middle Class</td>\n",
       "      <td>morning</td>\n",
       "    </tr>\n",
       "    <tr>\n",
       "      <th>4</th>\n",
       "      <td>431534</td>\n",
       "      <td>1</td>\n",
       "      <td>5</td>\n",
       "      <td>4</td>\n",
       "      <td>15</td>\n",
       "      <td>28.0</td>\n",
       "      <td>196</td>\n",
       "      <td>1</td>\n",
       "      <td>1</td>\n",
       "      <td>Soda</td>\n",
       "      <td>...</td>\n",
       "      <td>31</td>\n",
       "      <td>2/17/2019</td>\n",
       "      <td>3</td>\n",
       "      <td>married</td>\n",
       "      <td>40423</td>\n",
       "      <td>region 3, South</td>\n",
       "      <td>Regular activity customer</td>\n",
       "      <td>Young Adult</td>\n",
       "      <td>Lower Middle Class</td>\n",
       "      <td>afternoon</td>\n",
       "    </tr>\n",
       "  </tbody>\n",
       "</table>\n",
       "<p>5 rows × 35 columns</p>\n",
       "</div>"
      ],
      "text/plain": [
       "   order_id  user_id  order_number  orders_day_of_week  order_hour_of_day  \\\n",
       "0   2539329        1             1                   2                  8   \n",
       "1   2398795        1             2                   3                  7   \n",
       "2    473747        1             3                   3                 12   \n",
       "3   2254736        1             4                   4                  7   \n",
       "4    431534        1             5                   4                 15   \n",
       "\n",
       "   days_since_prior_order  product_id  add_to_cart_order  reordered  \\\n",
       "0                     7.0         196                  1          0   \n",
       "1                    15.0         196                  1          1   \n",
       "2                    21.0         196                  1          1   \n",
       "3                    29.0         196                  1          1   \n",
       "4                    28.0         196                  1          1   \n",
       "\n",
       "  product_name  ...  age  date_joined  n_dependants marital_status income  \\\n",
       "0         Soda  ...   31    2/17/2019             3        married  40423   \n",
       "1         Soda  ...   31    2/17/2019             3        married  40423   \n",
       "2         Soda  ...   31    2/17/2019             3        married  40423   \n",
       "3         Soda  ...   31    2/17/2019             3        married  40423   \n",
       "4         Soda  ...   31    2/17/2019             3        married  40423   \n",
       "\n",
       "            region          low_activity_flag    Age_Range  \\\n",
       "0  region 3, South  Regular activity customer  Young Adult   \n",
       "1  region 3, South  Regular activity customer  Young Adult   \n",
       "2  region 3, South  Regular activity customer  Young Adult   \n",
       "3  region 3, South  Regular activity customer  Young Adult   \n",
       "4  region 3, South  Regular activity customer  Young Adult   \n",
       "\n",
       "          income_flag  time_of_day  \n",
       "0  Lower Middle Class      morning  \n",
       "1  Lower Middle Class      morning  \n",
       "2  Lower Middle Class    afternoon  \n",
       "3  Lower Middle Class      morning  \n",
       "4  Lower Middle Class    afternoon  \n",
       "\n",
       "[5 rows x 35 columns]"
      ]
     },
     "execution_count": 68,
     "metadata": {},
     "output_type": "execute_result"
    }
   ],
   "source": [
    "df_complete.head()"
   ]
  },
  {
   "cell_type": "code",
   "execution_count": 69,
   "id": "a9954564",
   "metadata": {},
   "outputs": [],
   "source": [
    "# Creating crosstab between loyalty flag and  frequency flag\n",
    "crosstab7 = pd.crosstab(df_complete['loyalty_flag'], df_complete['frequency_flag'], dropna = False)"
   ]
  },
  {
   "cell_type": "code",
   "execution_count": 70,
   "id": "d09a6158",
   "metadata": {},
   "outputs": [
    {
     "data": {
      "text/html": [
       "<div>\n",
       "<style scoped>\n",
       "    .dataframe tbody tr th:only-of-type {\n",
       "        vertical-align: middle;\n",
       "    }\n",
       "\n",
       "    .dataframe tbody tr th {\n",
       "        vertical-align: top;\n",
       "    }\n",
       "\n",
       "    .dataframe thead th {\n",
       "        text-align: right;\n",
       "    }\n",
       "</style>\n",
       "<table border=\"1\" class=\"dataframe\">\n",
       "  <thead>\n",
       "    <tr style=\"text-align: right;\">\n",
       "      <th>frequency_flag</th>\n",
       "      <th>Frequent Customer</th>\n",
       "      <th>Non_frequent_customer</th>\n",
       "      <th>Regular customer</th>\n",
       "    </tr>\n",
       "    <tr>\n",
       "      <th>loyalty_flag</th>\n",
       "      <th></th>\n",
       "      <th></th>\n",
       "      <th></th>\n",
       "    </tr>\n",
       "  </thead>\n",
       "  <tbody>\n",
       "    <tr>\n",
       "      <th>Loyal customer</th>\n",
       "      <td>10281575</td>\n",
       "      <td>0</td>\n",
       "      <td>2518</td>\n",
       "    </tr>\n",
       "    <tr>\n",
       "      <th>New customer</th>\n",
       "      <td>2242253</td>\n",
       "      <td>2025953</td>\n",
       "      <td>1975784</td>\n",
       "    </tr>\n",
       "    <tr>\n",
       "      <th>Regular customer</th>\n",
       "      <td>10266695</td>\n",
       "      <td>660775</td>\n",
       "      <td>4949306</td>\n",
       "    </tr>\n",
       "  </tbody>\n",
       "</table>\n",
       "</div>"
      ],
      "text/plain": [
       "frequency_flag    Frequent Customer  Non_frequent_customer  Regular customer\n",
       "loyalty_flag                                                                \n",
       "Loyal customer             10281575                      0              2518\n",
       "New customer                2242253                2025953           1975784\n",
       "Regular customer           10266695                 660775           4949306"
      ]
     },
     "execution_count": 70,
     "metadata": {},
     "output_type": "execute_result"
    }
   ],
   "source": [
    "crosstab7"
   ]
  },
  {
   "cell_type": "code",
   "execution_count": 71,
   "id": "b8cac720",
   "metadata": {},
   "outputs": [
    {
     "data": {
      "image/png": "[encoded data removed]",
      "text/plain": [
       "<Figure size 640x480 with 1 Axes>"
      ]
     },
     "metadata": {},
     "output_type": "display_data"
    }
   ],
   "source": [
    "#plotting bar chart\n",
    "loyalvsfreq= crosstab7.plot(kind=\"bar\", stacked=True, rot=0)"
   ]
  },
  {
   "cell_type": "markdown",
   "id": "3b0a4525",
   "metadata": {},
   "source": [
    "# Create an appropriate visualization to show the distribution of profiles."
   ]
  },
  {
   "cell_type": "code",
   "execution_count": 72,
   "id": "4ed34afa",
   "metadata": {},
   "outputs": [
    {
     "data": {
      "text/html": [
       "<div>\n",
       "<style scoped>\n",
       "    .dataframe tbody tr th:only-of-type {\n",
       "        vertical-align: middle;\n",
       "    }\n",
       "\n",
       "    .dataframe tbody tr th {\n",
       "        vertical-align: top;\n",
       "    }\n",
       "\n",
       "    .dataframe thead th {\n",
       "        text-align: right;\n",
       "    }\n",
       "</style>\n",
       "<table border=\"1\" class=\"dataframe\">\n",
       "  <thead>\n",
       "    <tr style=\"text-align: right;\">\n",
       "      <th></th>\n",
       "      <th>order_id</th>\n",
       "      <th>user_id</th>\n",
       "      <th>order_number</th>\n",
       "      <th>orders_day_of_week</th>\n",
       "      <th>order_hour_of_day</th>\n",
       "      <th>days_since_prior_order</th>\n",
       "      <th>product_id</th>\n",
       "      <th>add_to_cart_order</th>\n",
       "      <th>reordered</th>\n",
       "      <th>aisle_id</th>\n",
       "      <th>department_id</th>\n",
       "      <th>prices</th>\n",
       "      <th>max_order</th>\n",
       "      <th>average_spend</th>\n",
       "      <th>Customer_frequency</th>\n",
       "      <th>age</th>\n",
       "      <th>n_dependants</th>\n",
       "      <th>income</th>\n",
       "    </tr>\n",
       "  </thead>\n",
       "  <tbody>\n",
       "    <tr>\n",
       "      <th>count</th>\n",
       "      <td>9.146419e+06</td>\n",
       "      <td>9.146419e+06</td>\n",
       "      <td>9.146419e+06</td>\n",
       "      <td>9.146419e+06</td>\n",
       "      <td>9.146419e+06</td>\n",
       "      <td>9.146419e+06</td>\n",
       "      <td>9.146419e+06</td>\n",
       "      <td>9.146419e+06</td>\n",
       "      <td>9.146419e+06</td>\n",
       "      <td>9.146419e+06</td>\n",
       "      <td>9.146419e+06</td>\n",
       "      <td>9.144942e+06</td>\n",
       "      <td>9.146419e+06</td>\n",
       "      <td>9.146419e+06</td>\n",
       "      <td>9.146419e+06</td>\n",
       "      <td>9.146419e+06</td>\n",
       "      <td>9.146419e+06</td>\n",
       "      <td>9.146419e+06</td>\n",
       "    </tr>\n",
       "    <tr>\n",
       "      <th>mean</th>\n",
       "      <td>1.711323e+06</td>\n",
       "      <td>1.030590e+05</td>\n",
       "      <td>1.710673e+01</td>\n",
       "      <td>2.730554e+00</td>\n",
       "      <td>1.340504e+01</td>\n",
       "      <td>1.086045e+01</td>\n",
       "      <td>2.558515e+04</td>\n",
       "      <td>8.408846e+00</td>\n",
       "      <td>5.895940e-01</td>\n",
       "      <td>7.120187e+01</td>\n",
       "      <td>9.936948e+00</td>\n",
       "      <td>7.785081e+00</td>\n",
       "      <td>3.298262e+01</td>\n",
       "      <td>1.212518e+01</td>\n",
       "      <td>9.772072e+00</td>\n",
       "      <td>2.650352e+01</td>\n",
       "      <td>1.504931e+00</td>\n",
       "      <td>7.049027e+04</td>\n",
       "    </tr>\n",
       "    <tr>\n",
       "      <th>std</th>\n",
       "      <td>9.875047e+05</td>\n",
       "      <td>5.960269e+04</td>\n",
       "      <td>1.747881e+01</td>\n",
       "      <td>2.088960e+00</td>\n",
       "      <td>4.248005e+00</td>\n",
       "      <td>8.545465e+00</td>\n",
       "      <td>1.407753e+04</td>\n",
       "      <td>7.187291e+00</td>\n",
       "      <td>4.919074e-01</td>\n",
       "      <td>3.822419e+01</td>\n",
       "      <td>6.284211e+00</td>\n",
       "      <td>4.238617e+00</td>\n",
       "      <td>2.508263e+01</td>\n",
       "      <td>9.380971e+01</td>\n",
       "      <td>6.346938e+00</td>\n",
       "      <td>5.192528e+00</td>\n",
       "      <td>1.118032e+00</td>\n",
       "      <td>2.521301e+04</td>\n",
       "    </tr>\n",
       "    <tr>\n",
       "      <th>min</th>\n",
       "      <td>5.000000e+00</td>\n",
       "      <td>1.000000e+00</td>\n",
       "      <td>1.000000e+00</td>\n",
       "      <td>0.000000e+00</td>\n",
       "      <td>0.000000e+00</td>\n",
       "      <td>0.000000e+00</td>\n",
       "      <td>1.000000e+00</td>\n",
       "      <td>1.000000e+00</td>\n",
       "      <td>0.000000e+00</td>\n",
       "      <td>1.000000e+00</td>\n",
       "      <td>1.000000e+00</td>\n",
       "      <td>1.000000e+00</td>\n",
       "      <td>3.000000e+00</td>\n",
       "      <td>1.000000e+00</td>\n",
       "      <td>0.000000e+00</td>\n",
       "      <td>1.800000e+01</td>\n",
       "      <td>0.000000e+00</td>\n",
       "      <td>2.591100e+04</td>\n",
       "    </tr>\n",
       "    <tr>\n",
       "      <th>25%</th>\n",
       "      <td>8.564610e+05</td>\n",
       "      <td>5.093800e+04</td>\n",
       "      <td>5.000000e+00</td>\n",
       "      <td>1.000000e+00</td>\n",
       "      <td>1.000000e+01</td>\n",
       "      <td>5.000000e+00</td>\n",
       "      <td>1.356000e+04</td>\n",
       "      <td>3.000000e+00</td>\n",
       "      <td>0.000000e+00</td>\n",
       "      <td>3.100000e+01</td>\n",
       "      <td>4.000000e+00</td>\n",
       "      <td>4.200000e+00</td>\n",
       "      <td>1.300000e+01</td>\n",
       "      <td>7.386010e+00</td>\n",
       "      <td>6.000000e+00</td>\n",
       "      <td>2.200000e+01</td>\n",
       "      <td>1.000000e+00</td>\n",
       "      <td>5.593500e+04</td>\n",
       "    </tr>\n",
       "    <tr>\n",
       "      <th>50%</th>\n",
       "      <td>1.710364e+06</td>\n",
       "      <td>1.031410e+05</td>\n",
       "      <td>1.100000e+01</td>\n",
       "      <td>3.000000e+00</td>\n",
       "      <td>1.300000e+01</td>\n",
       "      <td>7.000000e+00</td>\n",
       "      <td>2.524600e+04</td>\n",
       "      <td>6.000000e+00</td>\n",
       "      <td>1.000000e+00</td>\n",
       "      <td>8.300000e+01</td>\n",
       "      <td>9.000000e+00</td>\n",
       "      <td>7.400000e+00</td>\n",
       "      <td>2.600000e+01</td>\n",
       "      <td>7.817197e+00</td>\n",
       "      <td>7.000000e+00</td>\n",
       "      <td>2.700000e+01</td>\n",
       "      <td>2.000000e+00</td>\n",
       "      <td>6.903400e+04</td>\n",
       "    </tr>\n",
       "    <tr>\n",
       "      <th>75%</th>\n",
       "      <td>2.566488e+06</td>\n",
       "      <td>1.548810e+05</td>\n",
       "      <td>2.400000e+01</td>\n",
       "      <td>5.000000e+00</td>\n",
       "      <td>1.600000e+01</td>\n",
       "      <td>1.400000e+01</td>\n",
       "      <td>3.791700e+04</td>\n",
       "      <td>1.200000e+01</td>\n",
       "      <td>1.000000e+00</td>\n",
       "      <td>1.070000e+02</td>\n",
       "      <td>1.600000e+01</td>\n",
       "      <td>1.120000e+01</td>\n",
       "      <td>4.700000e+01</td>\n",
       "      <td>8.245455e+00</td>\n",
       "      <td>1.200000e+01</td>\n",
       "      <td>3.100000e+01</td>\n",
       "      <td>3.000000e+00</td>\n",
       "      <td>8.463100e+04</td>\n",
       "    </tr>\n",
       "    <tr>\n",
       "      <th>max</th>\n",
       "      <td>3.421077e+06</td>\n",
       "      <td>2.062060e+05</td>\n",
       "      <td>9.900000e+01</td>\n",
       "      <td>6.000000e+00</td>\n",
       "      <td>2.300000e+01</td>\n",
       "      <td>3.000000e+01</td>\n",
       "      <td>4.968800e+04</td>\n",
       "      <td>1.090000e+02</td>\n",
       "      <td>1.000000e+00</td>\n",
       "      <td>1.340000e+02</td>\n",
       "      <td>2.100000e+01</td>\n",
       "      <td>2.500000e+01</td>\n",
       "      <td>9.900000e+01</td>\n",
       "      <td>1.250692e+04</td>\n",
       "      <td>3.000000e+01</td>\n",
       "      <td>3.500000e+01</td>\n",
       "      <td>3.000000e+00</td>\n",
       "      <td>3.963640e+05</td>\n",
       "    </tr>\n",
       "  </tbody>\n",
       "</table>\n",
       "</div>"
      ],
      "text/plain": [
       "           order_id       user_id  order_number  orders_day_of_week  \\\n",
       "count  9.146419e+06  9.146419e+06  9.146419e+06        9.146419e+06   \n",
       "mean   1.711323e+06  1.030590e+05  1.710673e+01        2.730554e+00   \n",
       "std    9.875047e+05  5.960269e+04  1.747881e+01        2.088960e+00   \n",
       "min    5.000000e+00  1.000000e+00  1.000000e+00        0.000000e+00   \n",
       "25%    8.564610e+05  5.093800e+04  5.000000e+00        1.000000e+00   \n",
       "50%    1.710364e+06  1.031410e+05  1.100000e+01        3.000000e+00   \n",
       "75%    2.566488e+06  1.548810e+05  2.400000e+01        5.000000e+00   \n",
       "max    3.421077e+06  2.062060e+05  9.900000e+01        6.000000e+00   \n",
       "\n",
       "       order_hour_of_day  days_since_prior_order    product_id  \\\n",
       "count       9.146419e+06            9.146419e+06  9.146419e+06   \n",
       "mean        1.340504e+01            1.086045e+01  2.558515e+04   \n",
       "std         4.248005e+00            8.545465e+00  1.407753e+04   \n",
       "min         0.000000e+00            0.000000e+00  1.000000e+00   \n",
       "25%         1.000000e+01            5.000000e+00  1.356000e+04   \n",
       "50%         1.300000e+01            7.000000e+00  2.524600e+04   \n",
       "75%         1.600000e+01            1.400000e+01  3.791700e+04   \n",
       "max         2.300000e+01            3.000000e+01  4.968800e+04   \n",
       "\n",
       "       add_to_cart_order     reordered      aisle_id  department_id  \\\n",
       "count       9.146419e+06  9.146419e+06  9.146419e+06   9.146419e+06   \n",
       "mean        8.408846e+00  5.895940e-01  7.120187e+01   9.936948e+00   \n",
       "std         7.187291e+00  4.919074e-01  3.822419e+01   6.284211e+00   \n",
       "min         1.000000e+00  0.000000e+00  1.000000e+00   1.000000e+00   \n",
       "25%         3.000000e+00  0.000000e+00  3.100000e+01   4.000000e+00   \n",
       "50%         6.000000e+00  1.000000e+00  8.300000e+01   9.000000e+00   \n",
       "75%         1.200000e+01  1.000000e+00  1.070000e+02   1.600000e+01   \n",
       "max         1.090000e+02  1.000000e+00  1.340000e+02   2.100000e+01   \n",
       "\n",
       "             prices     max_order  average_spend  Customer_frequency  \\\n",
       "count  9.144942e+06  9.146419e+06   9.146419e+06        9.146419e+06   \n",
       "mean   7.785081e+00  3.298262e+01   1.212518e+01        9.772072e+00   \n",
       "std    4.238617e+00  2.508263e+01   9.380971e+01        6.346938e+00   \n",
       "min    1.000000e+00  3.000000e+00   1.000000e+00        0.000000e+00   \n",
       "25%    4.200000e+00  1.300000e+01   7.386010e+00        6.000000e+00   \n",
       "50%    7.400000e+00  2.600000e+01   7.817197e+00        7.000000e+00   \n",
       "75%    1.120000e+01  4.700000e+01   8.245455e+00        1.200000e+01   \n",
       "max    2.500000e+01  9.900000e+01   1.250692e+04        3.000000e+01   \n",
       "\n",
       "                age  n_dependants        income  \n",
       "count  9.146419e+06  9.146419e+06  9.146419e+06  \n",
       "mean   2.650352e+01  1.504931e+00  7.049027e+04  \n",
       "std    5.192528e+00  1.118032e+00  2.521301e+04  \n",
       "min    1.800000e+01  0.000000e+00  2.591100e+04  \n",
       "25%    2.200000e+01  1.000000e+00  5.593500e+04  \n",
       "50%    2.700000e+01  2.000000e+00  6.903400e+04  \n",
       "75%    3.100000e+01  3.000000e+00  8.463100e+04  \n",
       "max    3.500000e+01  3.000000e+00  3.963640e+05  "
      ]
     },
     "execution_count": 72,
     "metadata": {},
     "output_type": "execute_result"
    }
   ],
   "source": [
    "df_Young_adults.describe()"
   ]
  },
  {
   "cell_type": "code",
   "execution_count": 73,
   "id": "d217c4e9",
   "metadata": {},
   "outputs": [
    {
     "data": {
      "text/html": [
       "<div>\n",
       "<style scoped>\n",
       "    .dataframe tbody tr th:only-of-type {\n",
       "        vertical-align: middle;\n",
       "    }\n",
       "\n",
       "    .dataframe tbody tr th {\n",
       "        vertical-align: top;\n",
       "    }\n",
       "\n",
       "    .dataframe thead th {\n",
       "        text-align: right;\n",
       "    }\n",
       "</style>\n",
       "<table border=\"1\" class=\"dataframe\">\n",
       "  <thead>\n",
       "    <tr style=\"text-align: right;\">\n",
       "      <th></th>\n",
       "      <th>income</th>\n",
       "      <th>average_spend</th>\n",
       "    </tr>\n",
       "  </thead>\n",
       "  <tbody>\n",
       "    <tr>\n",
       "      <th>count</th>\n",
       "      <td>8.575084e+06</td>\n",
       "      <td>8.575084e+06</td>\n",
       "    </tr>\n",
       "    <tr>\n",
       "      <th>mean</th>\n",
       "      <td>1.155889e+05</td>\n",
       "      <td>1.176885e+01</td>\n",
       "    </tr>\n",
       "    <tr>\n",
       "      <th>std</th>\n",
       "      <td>4.209520e+04</td>\n",
       "      <td>7.368684e+01</td>\n",
       "    </tr>\n",
       "    <tr>\n",
       "      <th>min</th>\n",
       "      <td>2.900100e+04</td>\n",
       "      <td>1.000000e+00</td>\n",
       "    </tr>\n",
       "    <tr>\n",
       "      <th>25%</th>\n",
       "      <td>9.540600e+04</td>\n",
       "      <td>7.393333e+00</td>\n",
       "    </tr>\n",
       "    <tr>\n",
       "      <th>50%</th>\n",
       "      <td>1.160590e+05</td>\n",
       "      <td>7.830374e+00</td>\n",
       "    </tr>\n",
       "    <tr>\n",
       "      <th>75%</th>\n",
       "      <td>1.431900e+05</td>\n",
       "      <td>8.262373e+00</td>\n",
       "    </tr>\n",
       "    <tr>\n",
       "      <th>max</th>\n",
       "      <td>5.939010e+05</td>\n",
       "      <td>1.404251e+04</td>\n",
       "    </tr>\n",
       "  </tbody>\n",
       "</table>\n",
       "</div>"
      ],
      "text/plain": [
       "             income  average_spend\n",
       "count  8.575084e+06   8.575084e+06\n",
       "mean   1.155889e+05   1.176885e+01\n",
       "std    4.209520e+04   7.368684e+01\n",
       "min    2.900100e+04   1.000000e+00\n",
       "25%    9.540600e+04   7.393333e+00\n",
       "50%    1.160590e+05   7.830374e+00\n",
       "75%    1.431900e+05   8.262373e+00\n",
       "max    5.939010e+05   1.404251e+04"
      ]
     },
     "execution_count": 73,
     "metadata": {},
     "output_type": "execute_result"
    }
   ],
   "source": [
    "df_Seniors[['income', 'average_spend']].describe()"
   ]
  },
  {
   "cell_type": "code",
   "execution_count": 74,
   "id": "0c78b59e",
   "metadata": {},
   "outputs": [
    {
     "data": {
      "text/html": [
       "<div>\n",
       "<style scoped>\n",
       "    .dataframe tbody tr th:only-of-type {\n",
       "        vertical-align: middle;\n",
       "    }\n",
       "\n",
       "    .dataframe tbody tr th {\n",
       "        vertical-align: top;\n",
       "    }\n",
       "\n",
       "    .dataframe thead th {\n",
       "        text-align: right;\n",
       "    }\n",
       "</style>\n",
       "<table border=\"1\" class=\"dataframe\">\n",
       "  <thead>\n",
       "    <tr style=\"text-align: right;\">\n",
       "      <th></th>\n",
       "      <th>income</th>\n",
       "      <th>average_spend</th>\n",
       "    </tr>\n",
       "  </thead>\n",
       "  <tbody>\n",
       "    <tr>\n",
       "      <th>count</th>\n",
       "      <td>1.468336e+07</td>\n",
       "      <td>1.468336e+07</td>\n",
       "    </tr>\n",
       "    <tr>\n",
       "      <th>mean</th>\n",
       "      <td>1.080371e+05</td>\n",
       "      <td>1.201337e+01</td>\n",
       "    </tr>\n",
       "    <tr>\n",
       "      <th>std</th>\n",
       "      <td>4.373052e+04</td>\n",
       "      <td>8.148315e+01</td>\n",
       "    </tr>\n",
       "    <tr>\n",
       "      <th>min</th>\n",
       "      <td>2.590300e+04</td>\n",
       "      <td>1.000000e+00</td>\n",
       "    </tr>\n",
       "    <tr>\n",
       "      <th>25%</th>\n",
       "      <td>7.775900e+04</td>\n",
       "      <td>7.384178e+00</td>\n",
       "    </tr>\n",
       "    <tr>\n",
       "      <th>50%</th>\n",
       "      <td>1.078480e+05</td>\n",
       "      <td>7.825314e+00</td>\n",
       "    </tr>\n",
       "    <tr>\n",
       "      <th>75%</th>\n",
       "      <td>1.375860e+05</td>\n",
       "      <td>8.254801e+00</td>\n",
       "    </tr>\n",
       "    <tr>\n",
       "      <th>max</th>\n",
       "      <td>5.924090e+05</td>\n",
       "      <td>2.500542e+04</td>\n",
       "    </tr>\n",
       "  </tbody>\n",
       "</table>\n",
       "</div>"
      ],
      "text/plain": [
       "             income  average_spend\n",
       "count  1.468336e+07   1.468336e+07\n",
       "mean   1.080371e+05   1.201337e+01\n",
       "std    4.373052e+04   8.148315e+01\n",
       "min    2.590300e+04   1.000000e+00\n",
       "25%    7.775900e+04   7.384178e+00\n",
       "50%    1.078480e+05   7.825314e+00\n",
       "75%    1.375860e+05   8.254801e+00\n",
       "max    5.924090e+05   2.500542e+04"
      ]
     },
     "execution_count": 74,
     "metadata": {},
     "output_type": "execute_result"
    }
   ],
   "source": [
    "df_Adults[['income', 'average_spend']].describe()"
   ]
  },
  {
   "cell_type": "markdown",
   "id": "a1c211f7",
   "metadata": {},
   "source": [
    "I was not able to describe the complett dataframe because of memory issues. But here is a comparison"
   ]
  },
  {
   "cell_type": "code",
   "execution_count": 75,
   "id": "6be35db1",
   "metadata": {},
   "outputs": [],
   "source": [
    "\n",
    "# Calculate descriptive statistics\n",
    "seniors_stats = df_Seniors[['income', 'average_spend']].describe()\n",
    "adults_stats = df_Adults[['income', 'average_spend']].describe()\n",
    "young_adults_stats = df_Young_adults[['income', 'average_spend']].describe()\n",
    "\n"
   ]
  },
  {
   "cell_type": "code",
   "execution_count": 76,
   "id": "774bb6c7",
   "metadata": {},
   "outputs": [],
   "source": [
    "# Rename columns for clarity\n",
    "seniors_stats.columns = pd.MultiIndex.from_product([['Seniors'], seniors_stats.columns])\n",
    "adults_stats.columns = pd.MultiIndex.from_product([['Adults'], adults_stats.columns])\n",
    "young_adults_stats.columns = pd.MultiIndex.from_product([['Young Adults'], young_adults_stats.columns])"
   ]
  },
  {
   "cell_type": "code",
   "execution_count": 77,
   "id": "62d2bae2",
   "metadata": {},
   "outputs": [],
   "source": [
    "# Concatenate the statistics DataFrames\n",
    "combined_stats = pd.concat([seniors_stats, adults_stats, young_adults_stats], axis=1)"
   ]
  },
  {
   "cell_type": "code",
   "execution_count": 78,
   "id": "50f1a897",
   "metadata": {},
   "outputs": [
    {
     "name": "stdout",
     "output_type": "stream",
     "text": [
      "            Seniors                      Adults                Young Adults  \\\n",
      "             income average_spend        income average_spend        income   \n",
      "count  8.575084e+06  8.575084e+06  1.468336e+07  1.468336e+07  9.146419e+06   \n",
      "mean   1.155889e+05  1.176885e+01  1.080371e+05  1.201337e+01  7.049027e+04   \n",
      "std    4.209520e+04  7.368684e+01  4.373052e+04  8.148315e+01  2.521301e+04   \n",
      "min    2.900100e+04  1.000000e+00  2.590300e+04  1.000000e+00  2.591100e+04   \n",
      "25%    9.540600e+04  7.393333e+00  7.775900e+04  7.384178e+00  5.593500e+04   \n",
      "50%    1.160590e+05  7.830374e+00  1.078480e+05  7.825314e+00  6.903400e+04   \n",
      "75%    1.431900e+05  8.262373e+00  1.375860e+05  8.254801e+00  8.463100e+04   \n",
      "max    5.939010e+05  1.404251e+04  5.924090e+05  2.500542e+04  3.963640e+05   \n",
      "\n",
      "                     \n",
      "      average_spend  \n",
      "count  9.146419e+06  \n",
      "mean   1.212518e+01  \n",
      "std    9.380971e+01  \n",
      "min    1.000000e+00  \n",
      "25%    7.386010e+00  \n",
      "50%    7.817197e+00  \n",
      "75%    8.245455e+00  \n",
      "max    1.250692e+04  \n"
     ]
    }
   ],
   "source": [
    "## Display the combined statistics\n",
    "print(combined_stats)"
   ]
  },
  {
   "cell_type": "code",
   "execution_count": 79,
   "id": "0be7cca0",
   "metadata": {},
   "outputs": [
    {
     "data": {
      "text/html": [
       "<div>\n",
       "<style scoped>\n",
       "    .dataframe tbody tr th:only-of-type {\n",
       "        vertical-align: middle;\n",
       "    }\n",
       "\n",
       "    .dataframe tbody tr th {\n",
       "        vertical-align: top;\n",
       "    }\n",
       "\n",
       "    .dataframe thead tr th {\n",
       "        text-align: left;\n",
       "    }\n",
       "</style>\n",
       "<table border=\"1\" class=\"dataframe\">\n",
       "  <thead>\n",
       "    <tr>\n",
       "      <th></th>\n",
       "      <th colspan=\"2\" halign=\"left\">Seniors</th>\n",
       "      <th colspan=\"2\" halign=\"left\">Adults</th>\n",
       "      <th colspan=\"2\" halign=\"left\">Young Adults</th>\n",
       "    </tr>\n",
       "    <tr>\n",
       "      <th></th>\n",
       "      <th>income</th>\n",
       "      <th>average_spend</th>\n",
       "      <th>income</th>\n",
       "      <th>average_spend</th>\n",
       "      <th>income</th>\n",
       "      <th>average_spend</th>\n",
       "    </tr>\n",
       "  </thead>\n",
       "  <tbody>\n",
       "    <tr>\n",
       "      <th>count</th>\n",
       "      <td>8.575084e+06</td>\n",
       "      <td>8.575084e+06</td>\n",
       "      <td>1.468336e+07</td>\n",
       "      <td>1.468336e+07</td>\n",
       "      <td>9.146419e+06</td>\n",
       "      <td>9.146419e+06</td>\n",
       "    </tr>\n",
       "    <tr>\n",
       "      <th>mean</th>\n",
       "      <td>1.155889e+05</td>\n",
       "      <td>1.176885e+01</td>\n",
       "      <td>1.080371e+05</td>\n",
       "      <td>1.201337e+01</td>\n",
       "      <td>7.049027e+04</td>\n",
       "      <td>1.212518e+01</td>\n",
       "    </tr>\n",
       "    <tr>\n",
       "      <th>std</th>\n",
       "      <td>4.209520e+04</td>\n",
       "      <td>7.368684e+01</td>\n",
       "      <td>4.373052e+04</td>\n",
       "      <td>8.148315e+01</td>\n",
       "      <td>2.521301e+04</td>\n",
       "      <td>9.380971e+01</td>\n",
       "    </tr>\n",
       "    <tr>\n",
       "      <th>min</th>\n",
       "      <td>2.900100e+04</td>\n",
       "      <td>1.000000e+00</td>\n",
       "      <td>2.590300e+04</td>\n",
       "      <td>1.000000e+00</td>\n",
       "      <td>2.591100e+04</td>\n",
       "      <td>1.000000e+00</td>\n",
       "    </tr>\n",
       "    <tr>\n",
       "      <th>25%</th>\n",
       "      <td>9.540600e+04</td>\n",
       "      <td>7.393333e+00</td>\n",
       "      <td>7.775900e+04</td>\n",
       "      <td>7.384178e+00</td>\n",
       "      <td>5.593500e+04</td>\n",
       "      <td>7.386010e+00</td>\n",
       "    </tr>\n",
       "    <tr>\n",
       "      <th>50%</th>\n",
       "      <td>1.160590e+05</td>\n",
       "      <td>7.830374e+00</td>\n",
       "      <td>1.078480e+05</td>\n",
       "      <td>7.825314e+00</td>\n",
       "      <td>6.903400e+04</td>\n",
       "      <td>7.817197e+00</td>\n",
       "    </tr>\n",
       "    <tr>\n",
       "      <th>75%</th>\n",
       "      <td>1.431900e+05</td>\n",
       "      <td>8.262373e+00</td>\n",
       "      <td>1.375860e+05</td>\n",
       "      <td>8.254801e+00</td>\n",
       "      <td>8.463100e+04</td>\n",
       "      <td>8.245455e+00</td>\n",
       "    </tr>\n",
       "    <tr>\n",
       "      <th>max</th>\n",
       "      <td>5.939010e+05</td>\n",
       "      <td>1.404251e+04</td>\n",
       "      <td>5.924090e+05</td>\n",
       "      <td>2.500542e+04</td>\n",
       "      <td>3.963640e+05</td>\n",
       "      <td>1.250692e+04</td>\n",
       "    </tr>\n",
       "  </tbody>\n",
       "</table>\n",
       "</div>"
      ],
      "text/plain": [
       "            Seniors                      Adults                Young Adults  \\\n",
       "             income average_spend        income average_spend        income   \n",
       "count  8.575084e+06  8.575084e+06  1.468336e+07  1.468336e+07  9.146419e+06   \n",
       "mean   1.155889e+05  1.176885e+01  1.080371e+05  1.201337e+01  7.049027e+04   \n",
       "std    4.209520e+04  7.368684e+01  4.373052e+04  8.148315e+01  2.521301e+04   \n",
       "min    2.900100e+04  1.000000e+00  2.590300e+04  1.000000e+00  2.591100e+04   \n",
       "25%    9.540600e+04  7.393333e+00  7.775900e+04  7.384178e+00  5.593500e+04   \n",
       "50%    1.160590e+05  7.830374e+00  1.078480e+05  7.825314e+00  6.903400e+04   \n",
       "75%    1.431900e+05  8.262373e+00  1.375860e+05  8.254801e+00  8.463100e+04   \n",
       "max    5.939010e+05  1.404251e+04  5.924090e+05  2.500542e+04  3.963640e+05   \n",
       "\n",
       "                     \n",
       "      average_spend  \n",
       "count  9.146419e+06  \n",
       "mean   1.212518e+01  \n",
       "std    9.380971e+01  \n",
       "min    1.000000e+00  \n",
       "25%    7.386010e+00  \n",
       "50%    7.817197e+00  \n",
       "75%    8.245455e+00  \n",
       "max    1.250692e+04  "
      ]
     },
     "metadata": {},
     "output_type": "display_data"
    }
   ],
   "source": [
    "from IPython.display import display\n",
    "\n",
    "# Display the combined statistics\n",
    "display(combined_stats)"
   ]
  },
  {
   "cell_type": "code",
   "execution_count": 80,
   "id": "0c8aeaa0",
   "metadata": {},
   "outputs": [
    {
     "data": {
      "text/plain": [
       "Index(['order_id', 'user_id', 'order_number', 'orders_day_of_week',\n",
       "       'order_hour_of_day', 'days_since_prior_order', 'product_id',\n",
       "       'add_to_cart_order', 'reordered', 'product_name', 'aisle_id',\n",
       "       'department_id', 'prices', 'price_range_loc', 'busiest_day',\n",
       "       'busiest_days', 'busiest_period_of_day', 'max_order', 'loyalty_flag',\n",
       "       'average_spend', 'spender_flag', 'Customer_frequency', 'frequency_flag',\n",
       "       'gender', 'state', 'age', 'date_joined', 'n_dependants',\n",
       "       'marital_status', 'income', 'region', 'low_activity_flag', 'Age_Range',\n",
       "       'income_flag', 'time_of_day'],\n",
       "      dtype='object')"
      ]
     },
     "execution_count": 80,
     "metadata": {},
     "output_type": "execute_result"
    }
   ],
   "source": [
    "# checking columns\n",
    "df_complete.columns"
   ]
  },
  {
   "cell_type": "code",
   "execution_count": 81,
   "id": "d157df58",
   "metadata": {},
   "outputs": [
    {
     "data": {
      "text/plain": [
       "Index(['order_id', 'user_id', 'order_number', 'orders_day_of_week',\n",
       "       'order_hour_of_day', 'days_since_prior_order', 'product_id',\n",
       "       'add_to_cart_order', 'reordered', 'product_name', 'aisle_id',\n",
       "       'department_id', 'prices', 'price_range_loc', 'busiest_day',\n",
       "       'busiest_days', 'busiest_period_of_day', 'max_order', 'loyalty_flag',\n",
       "       'average_spend', 'spender_flag', 'Customer_frequency', 'frequency_flag',\n",
       "       'gender', 'state', 'age', 'date_joined', 'n_dependants',\n",
       "       'marital_status', 'income', 'region', 'low_activity_flag', 'Age_Range',\n",
       "       'income_flag', 'time_of_day'],\n",
       "      dtype='object')"
      ]
     },
     "execution_count": 81,
     "metadata": {},
     "output_type": "execute_result"
    }
   ],
   "source": [
    "# checking columns\n",
    "df_complete.columns"
   ]
  },
  {
   "cell_type": "code",
   "execution_count": 82,
   "id": "2eaecdee",
   "metadata": {},
   "outputs": [
    {
     "data": {
      "text/plain": [
       "43"
      ]
     },
     "execution_count": 82,
     "metadata": {},
     "output_type": "execute_result"
    }
   ],
   "source": [
    "#trying to solve memory issues\n",
    "import gc\n",
    "\n",
    "gc.collect()\n"
   ]
  },
  {
   "cell_type": "code",
   "execution_count": 83,
   "id": "e7623d44",
   "metadata": {},
   "outputs": [],
   "source": [
    "# Step 1: Select relevant columns\n",
    "selected_columns = df_complete[['prices', 'region', 'user_id', 'order_id']]\n"
   ]
  },
  {
   "cell_type": "code",
   "execution_count": 84,
   "id": "c0bf4ed7",
   "metadata": {},
   "outputs": [],
   "source": [
    "# Step 2: Group by region\n",
    "grouped_by_region = selected_columns.groupby(['region'])\n"
   ]
  },
  {
   "cell_type": "code",
   "execution_count": 85,
   "id": "1d3a5fb9",
   "metadata": {},
   "outputs": [],
   "source": [
    "# Step 3: Aggregate data\n",
    "aggregated_data = grouped_by_region.agg({\n",
    "    'prices': 'sum',\n",
    "    'user_id': pd.Series.nunique,\n",
    "    'order_id': pd.Series.nunique\n",
    "})"
   ]
  },
  {
   "cell_type": "code",
   "execution_count": 86,
   "id": "1540dcf0",
   "metadata": {},
   "outputs": [],
   "source": [
    "# Step 4: Rename columns for clarity\n",
    "aggregated_data.rename(columns={\n",
    "    'prices': 'sum of sales',\n",
    "    'user_id': 'unique_users',\n",
    "    'order_id': 'unique_orders'\n",
    "}, inplace=True)"
   ]
  },
  {
   "cell_type": "code",
   "execution_count": 87,
   "id": "886bb257",
   "metadata": {},
   "outputs": [],
   "source": [
    "# Step 5: Assign to df_region\n",
    "df_region = aggregated_data"
   ]
  },
  {
   "cell_type": "code",
   "execution_count": 88,
   "id": "126b9134",
   "metadata": {},
   "outputs": [
    {
     "name": "stdout",
     "output_type": "stream",
     "text": [
      "                     sum of sales  unique_users  unique_orders\n",
      "region                                                        \n",
      "region 1, Northeast    44530105.8         36388         567162\n",
      "region 2, Midwest      59192977.7         48519         754275\n",
      "region 3, South        84107910.4         68737        1071562\n",
      "region 4, West         64595126.7         52565         821686\n"
     ]
    }
   ],
   "source": [
    "# Step 6: Display the resulting DataFrame\n",
    "print(df_region)"
   ]
  },
  {
   "cell_type": "code",
   "execution_count": 92,
   "id": "ef7780d3",
   "metadata": {},
   "outputs": [],
   "source": [
    "# Step 4: Rename columns for clarity\n",
    "df_region.rename(columns={\n",
    "    'sum of sales': 'sum_of_sales',\n",
    "    'unique_users': 'customers_count',\n",
    "    'unique_orders': 'orders_placed'\n",
    "}, inplace=True)"
   ]
  },
  {
   "cell_type": "code",
   "execution_count": 93,
   "id": "40784605",
   "metadata": {},
   "outputs": [
    {
     "name": "stdout",
     "output_type": "stream",
     "text": [
      "                     sum_of_sales  customers_count  orders_placed\n",
      "region                                                           \n",
      "region 1, Northeast    44530105.8            36388         567162\n",
      "region 2, Midwest      59192977.7            48519         754275\n",
      "region 3, South        84107910.4            68737        1071562\n",
      "region 4, West         64595126.7            52565         821686\n"
     ]
    }
   ],
   "source": [
    "# Step 6: Display the resulting DataFrame\n",
    "print(df_region)"
   ]
  },
  {
   "cell_type": "code",
   "execution_count": 94,
   "id": "c2d19d39",
   "metadata": {},
   "outputs": [],
   "source": [
    "# creating new column: average price per customer\n",
    "df_region['avg_price_per_customer'] = df_region['sum_of_sales']/df_region['customers_count']"
   ]
  },
  {
   "cell_type": "code",
   "execution_count": 95,
   "id": "db9addd1",
   "metadata": {},
   "outputs": [],
   "source": [
    "# creating new column: average orders placed by customer\n",
    "df_region['avg_orders_per_customer'] = df_region['orders_placed']/df_region['customers_count']"
   ]
  },
  {
   "cell_type": "code",
   "execution_count": 96,
   "id": "1f608c2f",
   "metadata": {},
   "outputs": [],
   "source": [
    "# creating new column: average price per order\n",
    "df_region['avg_price_per_order'] = df_region['sum_of_sales']/df_region['orders_placed'] "
   ]
  },
  {
   "cell_type": "code",
   "execution_count": 97,
   "id": "33e99695",
   "metadata": {},
   "outputs": [
    {
     "name": "stdout",
     "output_type": "stream",
     "text": [
      "                     sum_of_sales  customers_count  orders_placed  \\\n",
      "region                                                              \n",
      "region 1, Northeast    44530105.8            36388         567162   \n",
      "region 2, Midwest      59192977.7            48519         754275   \n",
      "region 3, South        84107910.4            68737        1071562   \n",
      "region 4, West         64595126.7            52565         821686   \n",
      "\n",
      "                     avg_price_per_customer  avg_orders_per_customer  \\\n",
      "region                                                                 \n",
      "region 1, Northeast             1223.757992                15.586512   \n",
      "region 2, Midwest               1219.995830                15.545972   \n",
      "region 3, South                 1223.619163                15.589304   \n",
      "region 4, West                  1228.861918                15.631808   \n",
      "\n",
      "                     avg_price_per_order  \n",
      "region                                    \n",
      "region 1, Northeast            78.513909  \n",
      "region 2, Midwest              78.476653  \n",
      "region 3, South                78.490942  \n",
      "region 4, West                 78.612909  \n"
     ]
    }
   ],
   "source": [
    "# Step 6: Display the resulting DataFrame\n",
    "print(df_region)"
   ]
  },
  {
   "cell_type": "code",
   "execution_count": 98,
   "id": "2bafe134",
   "metadata": {},
   "outputs": [
    {
     "data": {
      "text/html": [
       "<div>\n",
       "<style scoped>\n",
       "    .dataframe tbody tr th:only-of-type {\n",
       "        vertical-align: middle;\n",
       "    }\n",
       "\n",
       "    .dataframe tbody tr th {\n",
       "        vertical-align: top;\n",
       "    }\n",
       "\n",
       "    .dataframe thead th {\n",
       "        text-align: right;\n",
       "    }\n",
       "</style>\n",
       "<table border=\"1\" class=\"dataframe\">\n",
       "  <thead>\n",
       "    <tr style=\"text-align: right;\">\n",
       "      <th></th>\n",
       "      <th>sum_of_sales</th>\n",
       "      <th>customers_count</th>\n",
       "      <th>orders_placed</th>\n",
       "      <th>avg_price_per_customer</th>\n",
       "      <th>avg_orders_per_customer</th>\n",
       "      <th>avg_price_per_order</th>\n",
       "    </tr>\n",
       "    <tr>\n",
       "      <th>region</th>\n",
       "      <th></th>\n",
       "      <th></th>\n",
       "      <th></th>\n",
       "      <th></th>\n",
       "      <th></th>\n",
       "      <th></th>\n",
       "    </tr>\n",
       "  </thead>\n",
       "  <tbody>\n",
       "    <tr>\n",
       "      <th>region 1, Northeast</th>\n",
       "      <td>44530105.8</td>\n",
       "      <td>36388</td>\n",
       "      <td>567162</td>\n",
       "      <td>1223.757992</td>\n",
       "      <td>15.586512</td>\n",
       "      <td>78.513909</td>\n",
       "    </tr>\n",
       "    <tr>\n",
       "      <th>region 2, Midwest</th>\n",
       "      <td>59192977.7</td>\n",
       "      <td>48519</td>\n",
       "      <td>754275</td>\n",
       "      <td>1219.995830</td>\n",
       "      <td>15.545972</td>\n",
       "      <td>78.476653</td>\n",
       "    </tr>\n",
       "    <tr>\n",
       "      <th>region 3, South</th>\n",
       "      <td>84107910.4</td>\n",
       "      <td>68737</td>\n",
       "      <td>1071562</td>\n",
       "      <td>1223.619163</td>\n",
       "      <td>15.589304</td>\n",
       "      <td>78.490942</td>\n",
       "    </tr>\n",
       "    <tr>\n",
       "      <th>region 4, West</th>\n",
       "      <td>64595126.7</td>\n",
       "      <td>52565</td>\n",
       "      <td>821686</td>\n",
       "      <td>1228.861918</td>\n",
       "      <td>15.631808</td>\n",
       "      <td>78.612909</td>\n",
       "    </tr>\n",
       "  </tbody>\n",
       "</table>\n",
       "</div>"
      ],
      "text/plain": [
       "                     sum_of_sales  customers_count  orders_placed  \\\n",
       "region                                                              \n",
       "region 1, Northeast    44530105.8            36388         567162   \n",
       "region 2, Midwest      59192977.7            48519         754275   \n",
       "region 3, South        84107910.4            68737        1071562   \n",
       "region 4, West         64595126.7            52565         821686   \n",
       "\n",
       "                     avg_price_per_customer  avg_orders_per_customer  \\\n",
       "region                                                                 \n",
       "region 1, Northeast             1223.757992                15.586512   \n",
       "region 2, Midwest               1219.995830                15.545972   \n",
       "region 3, South                 1223.619163                15.589304   \n",
       "region 4, West                  1228.861918                15.631808   \n",
       "\n",
       "                     avg_price_per_order  \n",
       "region                                    \n",
       "region 1, Northeast            78.513909  \n",
       "region 2, Midwest              78.476653  \n",
       "region 3, South                78.490942  \n",
       "region 4, West                 78.612909  "
      ]
     },
     "metadata": {},
     "output_type": "display_data"
    }
   ],
   "source": [
    "display(df_region)"
   ]
  },
  {
   "cell_type": "code",
   "execution_count": 99,
   "id": "fc343a89",
   "metadata": {},
   "outputs": [
    {
     "data": {
      "text/html": [
       "<div>\n",
       "<style scoped>\n",
       "    .dataframe tbody tr th:only-of-type {\n",
       "        vertical-align: middle;\n",
       "    }\n",
       "\n",
       "    .dataframe tbody tr th {\n",
       "        vertical-align: top;\n",
       "    }\n",
       "\n",
       "    .dataframe thead th {\n",
       "        text-align: right;\n",
       "    }\n",
       "</style>\n",
       "<table border=\"1\" class=\"dataframe\">\n",
       "  <thead>\n",
       "    <tr style=\"text-align: right;\">\n",
       "      <th></th>\n",
       "      <th>sum_of_sales</th>\n",
       "      <th>customers_count</th>\n",
       "      <th>orders_placed</th>\n",
       "      <th>avg_price_per_customer</th>\n",
       "      <th>avg_orders_per_customer</th>\n",
       "      <th>avg_price_per_order</th>\n",
       "    </tr>\n",
       "    <tr>\n",
       "      <th>region</th>\n",
       "      <th></th>\n",
       "      <th></th>\n",
       "      <th></th>\n",
       "      <th></th>\n",
       "      <th></th>\n",
       "      <th></th>\n",
       "    </tr>\n",
       "  </thead>\n",
       "  <tbody>\n",
       "    <tr>\n",
       "      <th>region 4, West</th>\n",
       "      <td>64595126.7</td>\n",
       "      <td>52565</td>\n",
       "      <td>821686</td>\n",
       "      <td>1228.861918</td>\n",
       "      <td>15.631808</td>\n",
       "      <td>78.612909</td>\n",
       "    </tr>\n",
       "    <tr>\n",
       "      <th>region 1, Northeast</th>\n",
       "      <td>44530105.8</td>\n",
       "      <td>36388</td>\n",
       "      <td>567162</td>\n",
       "      <td>1223.757992</td>\n",
       "      <td>15.586512</td>\n",
       "      <td>78.513909</td>\n",
       "    </tr>\n",
       "    <tr>\n",
       "      <th>region 3, South</th>\n",
       "      <td>84107910.4</td>\n",
       "      <td>68737</td>\n",
       "      <td>1071562</td>\n",
       "      <td>1223.619163</td>\n",
       "      <td>15.589304</td>\n",
       "      <td>78.490942</td>\n",
       "    </tr>\n",
       "    <tr>\n",
       "      <th>region 2, Midwest</th>\n",
       "      <td>59192977.7</td>\n",
       "      <td>48519</td>\n",
       "      <td>754275</td>\n",
       "      <td>1219.995830</td>\n",
       "      <td>15.545972</td>\n",
       "      <td>78.476653</td>\n",
       "    </tr>\n",
       "  </tbody>\n",
       "</table>\n",
       "</div>"
      ],
      "text/plain": [
       "                     sum_of_sales  customers_count  orders_placed  \\\n",
       "region                                                              \n",
       "region 4, West         64595126.7            52565         821686   \n",
       "region 1, Northeast    44530105.8            36388         567162   \n",
       "region 3, South        84107910.4            68737        1071562   \n",
       "region 2, Midwest      59192977.7            48519         754275   \n",
       "\n",
       "                     avg_price_per_customer  avg_orders_per_customer  \\\n",
       "region                                                                 \n",
       "region 4, West                  1228.861918                15.631808   \n",
       "region 1, Northeast             1223.757992                15.586512   \n",
       "region 3, South                 1223.619163                15.589304   \n",
       "region 2, Midwest               1219.995830                15.545972   \n",
       "\n",
       "                     avg_price_per_order  \n",
       "region                                    \n",
       "region 4, West                 78.612909  \n",
       "region 1, Northeast            78.513909  \n",
       "region 3, South                78.490942  \n",
       "region 2, Midwest              78.476653  "
      ]
     },
     "execution_count": 99,
     "metadata": {},
     "output_type": "execute_result"
    }
   ],
   "source": [
    "# sorting data by price per customer \n",
    "df_region.sort_values(by='avg_price_per_customer', ascending=False)"
   ]
  },
  {
   "cell_type": "markdown",
   "id": "4bd0e51b",
   "metadata": {},
   "source": [
    "The WEST comes out as the highest price per customer."
   ]
  },
  {
   "cell_type": "markdown",
   "id": "f3f4b67d",
   "metadata": {},
   "source": [
    "# Compare your customer profiles with regions and departments. Can you identify a link between them? Customers may demonstrate different behaviors across regions, which could make this information important."
   ]
  },
  {
   "cell_type": "code",
   "execution_count": 100,
   "id": "3cae6af6",
   "metadata": {},
   "outputs": [
    {
     "data": {
      "text/plain": [
       "977"
      ]
     },
     "execution_count": 100,
     "metadata": {},
     "output_type": "execute_result"
    }
   ],
   "source": [
    "#trying to solve memory issues\n",
    "import gc\n",
    "\n",
    "gc.collect()\n"
   ]
  },
  {
   "cell_type": "code",
   "execution_count": 101,
   "id": "a700d70a",
   "metadata": {},
   "outputs": [],
   "source": [
    "#  Select the columns to compare customer profiles and regions\n",
    "region_column = df_complete['region']\n",
    "income_flag_column = df_complete['income_flag']"
   ]
  },
  {
   "cell_type": "code",
   "execution_count": 102,
   "id": "1ac55f06",
   "metadata": {},
   "outputs": [],
   "source": [
    "#  Create the crosstab\n",
    "crosstab8 = pd.crosstab(region_column, income_flag_column, dropna=False)"
   ]
  },
  {
   "cell_type": "code",
   "execution_count": 103,
   "id": "b143b5d1",
   "metadata": {},
   "outputs": [
    {
     "name": "stdout",
     "output_type": "stream",
     "text": [
      "income_flag          Lower Middle Class  Middle Class    Poor  Wealthy\n",
      "region                                                                \n",
      "region 1, Northeast              677921       4949251   85790     9774\n",
      "region 2, Midwest                874646       6577595  125524    19560\n",
      "region 3, South                 1269230       9324681  183132    14842\n",
      "region 4, West                   942436       7206358  129307    14812\n"
     ]
    }
   ],
   "source": [
    "#  Display the crosstab\n",
    "print(crosstab8)"
   ]
  },
  {
   "cell_type": "code",
   "execution_count": 104,
   "id": "7ba3fbb1",
   "metadata": {},
   "outputs": [],
   "source": [
    "#  Create the DataFrame\n",
    "data = {\n",
    "    'Lower Middle Class': [677921, 874646, 1269230, 942436],\n",
    "    'Middle Class': [4949251, 6577595, 9324681, 7206358],\n",
    "    'Poor': [85790, 125524, 183132, 129307],\n",
    "    'Wealthy': [9774, 19560, 14842, 14812]\n",
    "}\n",
    "regions = ['region 1, Northeast', 'region 2, Midwest', 'region 3, South', 'region 4, West']\n",
    "df = pd.DataFrame(data, index=regions)"
   ]
  },
  {
   "cell_type": "code",
   "execution_count": 105,
   "id": "e0f67335",
   "metadata": {},
   "outputs": [],
   "source": [
    "# Calculate Percentages\n",
    "df_percent = df.div(df.sum(axis=1), axis=0) * 100"
   ]
  },
  {
   "cell_type": "code",
   "execution_count": 106,
   "id": "d8115eee",
   "metadata": {},
   "outputs": [
    {
     "name": "stdout",
     "output_type": "stream",
     "text": [
      "                     Lower Middle Class  Middle Class      Poor   Wealthy\n",
      "region 1, Northeast           11.846099     86.484000  1.499108  0.170792\n",
      "region 2, Midwest             11.512552     86.577776  1.652213  0.257459\n",
      "region 3, South               11.760967     86.404562  1.696942  0.137529\n",
      "region 4, West                11.364354     86.897789  1.559247  0.178610\n"
     ]
    }
   ],
   "source": [
    "#  Display the Result\n",
    "print(df_percent)"
   ]
  },
  {
   "cell_type": "markdown",
   "id": "d150a1ea",
   "metadata": {},
   "source": [
    "MIddle Class dominites all regions"
   ]
  },
  {
   "cell_type": "code",
   "execution_count": 107,
   "id": "73039aa1",
   "metadata": {},
   "outputs": [],
   "source": [
    "# Select the columns to check different behaviours\n",
    "region_column = df_complete['region']\n",
    "time_of_day_column = df_complete['time_of_day']"
   ]
  },
  {
   "cell_type": "code",
   "execution_count": 108,
   "id": "868052fb",
   "metadata": {},
   "outputs": [
    {
     "data": {
      "text/plain": [
       "0"
      ]
     },
     "execution_count": 108,
     "metadata": {},
     "output_type": "execute_result"
    }
   ],
   "source": [
    "#trying to solve memory issues\n",
    "import gc\n",
    "\n",
    "gc.collect()\n"
   ]
  },
  {
   "cell_type": "code",
   "execution_count": 109,
   "id": "77a51368",
   "metadata": {},
   "outputs": [],
   "source": [
    "# Create the crosstab\n",
    "crosstab_region_time_of_day = pd.crosstab(region_column, time_of_day_column, dropna=False)"
   ]
  },
  {
   "cell_type": "code",
   "execution_count": 110,
   "id": "13451b19",
   "metadata": {},
   "outputs": [
    {
     "name": "stdout",
     "output_type": "stream",
     "text": [
      "time_of_day          afternoon  evening  morning    nan   night  overnight\n",
      "region                                                                    \n",
      "region 1, Northeast    2330301   872797  1912667  38557  500315      68099\n",
      "region 2, Midwest      3081725  1176741  2534998  50748  664309      88804\n",
      "region 3, South        4364674  1662004  3631010  73297  934773     126127\n",
      "region 4, West         3389268  1270919  2773093  56167  708937      94529\n"
     ]
    }
   ],
   "source": [
    "#Display the crosstab\n",
    "print(crosstab_region_time_of_day)"
   ]
  },
  {
   "cell_type": "code",
   "execution_count": 111,
   "id": "e15f9a00",
   "metadata": {},
   "outputs": [],
   "source": [
    "# create dataframe\n",
    "data = {\n",
    "    'afternoon': [2330301, 3081725, 4364674, 3389268],\n",
    "    'evening': [872797, 1176741, 1662004, 1270919],\n",
    "    'morning': [1912667, 2534998, 3631010, 2773093],\n",
    "    'nan': [38557, 50748, 73297, 56167],\n",
    "    'night': [500315, 664309, 934773, 708937],\n",
    "    'overnight': [68099, 88804, 126127, 94529]\n",
    "}\n",
    "regions = ['region 1, Northeast', 'region 2, Midwest', 'region 3, South', 'region 4, West']\n",
    "df = pd.DataFrame(data, index=regions)"
   ]
  },
  {
   "cell_type": "code",
   "execution_count": 112,
   "id": "54fd4ecb",
   "metadata": {},
   "outputs": [],
   "source": [
    "#Calculate Percentages\n",
    "df_percent = df.div(df.sum(axis=1), axis=0) * 100"
   ]
  },
  {
   "cell_type": "code",
   "execution_count": 113,
   "id": "13020f9c",
   "metadata": {},
   "outputs": [
    {
     "name": "stdout",
     "output_type": "stream",
     "text": [
      "                     afternoon    evening    morning       nan     night  \\\n",
      "region 1, Northeast  40.720051  15.251394  33.422248  0.673751  8.742584   \n",
      "region 2, Midwest    40.563290  15.488886  33.366981  0.667972  8.743986   \n",
      "region 3, South      40.444037  15.400498  33.645744  0.679186  8.661814   \n",
      "region 4, West       40.869451  15.325363  33.439311  0.677289  8.548709   \n",
      "\n",
      "                     overnight  \n",
      "region 1, Northeast   1.189973  \n",
      "region 2, Midwest     1.168885  \n",
      "region 3, South       1.168721  \n",
      "region 4, West        1.139877  \n"
     ]
    }
   ],
   "source": [
    "#Display the resulting DataFrame\n",
    "print(df_percent)"
   ]
  },
  {
   "cell_type": "markdown",
   "id": "c20f9019",
   "metadata": {},
   "source": [
    "Afternoon dominates in all regions and this followed by morning."
   ]
  },
  {
   "cell_type": "code",
   "execution_count": 114,
   "id": "fecffcc4",
   "metadata": {},
   "outputs": [
    {
     "data": {
      "text/plain": [
       "0"
      ]
     },
     "execution_count": 114,
     "metadata": {},
     "output_type": "execute_result"
    }
   ],
   "source": [
    "#trying to solve memory issues\n",
    "gc.collect()\n"
   ]
  },
  {
   "cell_type": "code",
   "execution_count": 115,
   "id": "6f9e7035",
   "metadata": {},
   "outputs": [
    {
     "data": {
      "text/plain": [
       "Index(['order_id', 'user_id', 'order_number', 'orders_day_of_week',\n",
       "       'order_hour_of_day', 'days_since_prior_order', 'product_id',\n",
       "       'add_to_cart_order', 'reordered', 'product_name', 'aisle_id',\n",
       "       'department_id', 'prices', 'price_range_loc', 'busiest_day',\n",
       "       'busiest_days', 'busiest_period_of_day', 'max_order', 'loyalty_flag',\n",
       "       'average_spend', 'spender_flag', 'Customer_frequency', 'frequency_flag',\n",
       "       'gender', 'state', 'age', 'date_joined', 'n_dependants',\n",
       "       'marital_status', 'income', 'region', 'low_activity_flag', 'Age_Range',\n",
       "       'income_flag', 'time_of_day'],\n",
       "      dtype='object')"
      ]
     },
     "execution_count": 115,
     "metadata": {},
     "output_type": "execute_result"
    }
   ],
   "source": [
    "df_complete.columns\n"
   ]
  },
  {
   "cell_type": "code",
   "execution_count": 120,
   "id": "861f7680",
   "metadata": {},
   "outputs": [
    {
     "data": {
      "text/plain": [
       "1110"
      ]
     },
     "execution_count": 120,
     "metadata": {},
     "output_type": "execute_result"
    }
   ],
   "source": [
    "#trying to solve memory issues\n",
    "gc.collect()\n"
   ]
  },
  {
   "cell_type": "code",
   "execution_count": 121,
   "id": "2ce458ef",
   "metadata": {},
   "outputs": [],
   "source": [
    "df_Young_adults.to_pickle(os.path.join(path, '02 Data','Prepared Data', 'Young_Adults.pkl'))"
   ]
  },
  {
   "cell_type": "code",
   "execution_count": 122,
   "id": "2e9b179f",
   "metadata": {},
   "outputs": [],
   "source": [
    "df_Adults.to_pickle(os.path.join(path, '02 Data','Prepared Data', 'Adults.pkl'))"
   ]
  },
  {
   "cell_type": "code",
   "execution_count": 123,
   "id": "6fa6f356",
   "metadata": {},
   "outputs": [],
   "source": [
    "df_Seniors.to_pickle(os.path.join(path, '02 Data','Prepared Data', 'Seniors.pkl'))"
   ]
  },
  {
   "cell_type": "code",
   "execution_count": 124,
   "id": "00f79791",
   "metadata": {},
   "outputs": [],
   "source": [
    "df_region.to_pickle(os.path.join(path, '02 Data','Prepared Data', 'df_region.pkl'))"
   ]
  },
  {
   "cell_type": "code",
   "execution_count": 125,
   "id": "d9f3d1bb",
   "metadata": {},
   "outputs": [],
   "source": [
    "# Exporting visualizations\n",
    "bar1.figure.savefig(os.path.join(path, '04 Analysis','Visualizations', 'regions.png'))\n"
   ]
  },
  {
   "cell_type": "code",
   "execution_count": 126,
   "id": "4e51c0cc",
   "metadata": {},
   "outputs": [],
   "source": [
    "spender_flag_vs_region.figure.savefig(os.path.join(path, '04 Analysis','Visualizations', 'spender_flag_vs_region.png'))"
   ]
  },
  {
   "cell_type": "code",
   "execution_count": 127,
   "id": "c3116323",
   "metadata": {},
   "outputs": [],
   "source": [
    "regionvsfreq.figure.savefig(os.path.join(path, '04 Analysis','Visualizations', 'regionvsfreq'))"
   ]
  },
  {
   "cell_type": "code",
   "execution_count": 128,
   "id": "0805d8e6",
   "metadata": {},
   "outputs": [],
   "source": [
    "pie_chart.figure.savefig(os.path.join(path, '04 Analysis','Visualizations', 'agerange'))"
   ]
  },
  {
   "cell_type": "code",
   "execution_count": 129,
   "id": "a8a6fb3a",
   "metadata": {},
   "outputs": [],
   "source": [
    "regionsvsagerange.figure.savefig(os.path.join(path, '04 Analysis','Visualizations', 'regionsvsagerange'))"
   ]
  },
  {
   "cell_type": "code",
   "execution_count": 130,
   "id": "4f77020c",
   "metadata": {},
   "outputs": [],
   "source": [
    "agerange_vs_class.figure.savefig(os.path.join(path, '04 Analysis','Visualizations', 'agerange_vs_class'))"
   ]
  },
  {
   "cell_type": "code",
   "execution_count": 131,
   "id": "341accd5",
   "metadata": {},
   "outputs": [],
   "source": [
    "pie_chart1.figure.savefig(os.path.join(path, '04 Analysis','Visualizations', 'young_adults_time_of_day'))"
   ]
  },
  {
   "cell_type": "code",
   "execution_count": 132,
   "id": "a1abd516",
   "metadata": {},
   "outputs": [],
   "source": [
    "bar2.figure.savefig(os.path.join(path, '04 Analysis','Visualizations', 'young_adults_department'))"
   ]
  },
  {
   "cell_type": "code",
   "execution_count": 133,
   "id": "b37cfa7f",
   "metadata": {},
   "outputs": [],
   "source": [
    "bar3.figure.savefig(os.path.join(path, '04 Analysis','Visualizations', 'young_adults_income_flag'))"
   ]
  },
  {
   "cell_type": "code",
   "execution_count": 134,
   "id": "1590f5b2",
   "metadata": {},
   "outputs": [],
   "source": [
    "hist1.figure.savefig(os.path.join(path, '04 Analysis','Visualizations', 'young_adults_prices'))"
   ]
  },
  {
   "cell_type": "code",
   "execution_count": 135,
   "id": "e4c3d5a6",
   "metadata": {},
   "outputs": [],
   "source": [
    "pie_chart2.figure.savefig(os.path.join(path, '04 Analysis','Visualizations', 'adults_time_of_day'))"
   ]
  },
  {
   "cell_type": "code",
   "execution_count": 136,
   "id": "e0dac972",
   "metadata": {},
   "outputs": [],
   "source": [
    "bar4.figure.savefig(os.path.join(path, '04 Analysis','Visualizations', 'adults_department'))"
   ]
  },
  {
   "cell_type": "code",
   "execution_count": 137,
   "id": "ea8f1d3b",
   "metadata": {},
   "outputs": [],
   "source": [
    "bar5.figure.savefig(os.path.join(path, '04 Analysis','Visualizations', 'adults_income_flag'))"
   ]
  },
  {
   "cell_type": "code",
   "execution_count": 138,
   "id": "757ccb93",
   "metadata": {},
   "outputs": [],
   "source": [
    "hist2.figure.savefig(os.path.join(path, '04 Analysis','Visualizations', 'adults_prices'))"
   ]
  },
  {
   "cell_type": "code",
   "execution_count": 139,
   "id": "92bdb950",
   "metadata": {},
   "outputs": [],
   "source": [
    "pie_chart3.figure.savefig(os.path.join(path, '04 Analysis','Visualizations', 'seniors_time_of_day'))"
   ]
  },
  {
   "cell_type": "code",
   "execution_count": 140,
   "id": "6648a43e",
   "metadata": {},
   "outputs": [],
   "source": [
    "bar6.figure.savefig(os.path.join(path, '04 Analysis','Visualizations', 'seniors_department'))"
   ]
  },
  {
   "cell_type": "code",
   "execution_count": 141,
   "id": "45d88952",
   "metadata": {},
   "outputs": [],
   "source": [
    "bar7.figure.savefig(os.path.join(path, '04 Analysis','Visualizations', 'seniors_income_flag'))"
   ]
  },
  {
   "cell_type": "code",
   "execution_count": 142,
   "id": "a89e227b",
   "metadata": {},
   "outputs": [],
   "source": [
    "hist3.figure.savefig(os.path.join(path, '04 Analysis','Visualizations', 'seniors_prices'))"
   ]
  },
  {
   "cell_type": "code",
   "execution_count": 143,
   "id": "7734887d",
   "metadata": {},
   "outputs": [],
   "source": [
    "bar8.figure.savefig(os.path.join(path, '04 Analysis','Visualizations', 'complete_departement'))"
   ]
  },
  {
   "cell_type": "code",
   "execution_count": 144,
   "id": "41b42c31",
   "metadata": {},
   "outputs": [],
   "source": [
    "pie_chart4.figure.savefig(os.path.join(path, '04 Analysis','Visualizations', 'customer_loyalty_distribution'))\n"
   ]
  },
  {
   "cell_type": "code",
   "execution_count": 145,
   "id": "ffa43a07",
   "metadata": {},
   "outputs": [],
   "source": [
    "loyalvsfreq.figure.savefig(os.path.join(path, '04 Analysis','Visualizations', 'loyalvsfreq'))\n"
   ]
  },
  {
   "cell_type": "code",
   "execution_count": 147,
   "id": "07771667",
   "metadata": {},
   "outputs": [
    {
     "data": {
      "text/plain": [
       "0"
      ]
     },
     "execution_count": 147,
     "metadata": {},
     "output_type": "execute_result"
    }
   ],
   "source": [
    "#trying to solve memory issues\n",
    "gc.collect()\n",
    "\n"
   ]
  },
  {
   "cell_type": "code",
   "execution_count": null,
   "id": "59526f27",
   "metadata": {},
   "outputs": [],
   "source": [
    "df_complete.to_pickle(os.path.join(path, '02 Data','Prepared Data', 'Final_full_combined.pkl'))"
   ]
  }
 ],
 "metadata": {
  "kernelspec": {
   "display_name": "Python 3 (ipykernel)",
   "language": "python",
   "name": "python3"
  },
  "language_info": {
   "codemirror_mode": {
    "name": "ipython",
    "version": 3
   },
   "file_extension": ".py",
   "mimetype": "text/x-python",
   "name": "python",
   "nbconvert_exporter": "python",
   "pygments_lexer": "ipython3",
   "version": "3.11.7"
  }
 },
 "nbformat": 4,
 "nbformat_minor": 5
}
