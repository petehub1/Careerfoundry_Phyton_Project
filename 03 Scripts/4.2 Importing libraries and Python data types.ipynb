{
 "cells": [
  {
   "cell_type": "markdown",
   "id": "be2e8d91",
   "metadata": {},
   "source": [
    "# 01. Importing libraries"
   ]
  },
  {
   "cell_type": "code",
   "execution_count": 1,
   "id": "78b644d2",
   "metadata": {},
   "outputs": [],
   "source": [
    "# Import libraries\n",
    "import pandas as pd\n",
    "import numpy as np\n",
    "import os"
   ]
  },
  {
   "cell_type": "markdown",
   "id": "4ae82ffa",
   "metadata": {},
   "source": [
    "# 02. Data types"
   ]
  },
  {
   "cell_type": "code",
   "execution_count": 2,
   "id": "a98efb06",
   "metadata": {},
   "outputs": [],
   "source": [
    "x = 2"
   ]
  },
  {
   "cell_type": "code",
   "execution_count": 3,
   "id": "9e74c8fc",
   "metadata": {},
   "outputs": [
    {
     "data": {
      "text/plain": [
       "2"
      ]
     },
     "execution_count": 3,
     "metadata": {},
     "output_type": "execute_result"
    }
   ],
   "source": [
    "x"
   ]
  },
  {
   "cell_type": "code",
   "execution_count": 4,
   "id": "2d7ed50d",
   "metadata": {},
   "outputs": [
    {
     "name": "stdout",
     "output_type": "stream",
     "text": [
      "2\n"
     ]
    }
   ],
   "source": [
    "print(x)"
   ]
  },
  {
   "cell_type": "code",
   "execution_count": 5,
   "id": "af790d34",
   "metadata": {},
   "outputs": [
    {
     "data": {
      "text/plain": [
       "int"
      ]
     },
     "execution_count": 5,
     "metadata": {},
     "output_type": "execute_result"
    }
   ],
   "source": [
    "type(x)"
   ]
  },
  {
   "cell_type": "code",
   "execution_count": 6,
   "id": "09fee277",
   "metadata": {},
   "outputs": [],
   "source": [
    "y = 5.678"
   ]
  },
  {
   "cell_type": "code",
   "execution_count": 7,
   "id": "6bc088c8",
   "metadata": {},
   "outputs": [
    {
     "data": {
      "text/plain": [
       "float"
      ]
     },
     "execution_count": 7,
     "metadata": {},
     "output_type": "execute_result"
    }
   ],
   "source": [
    "type(y)"
   ]
  },
  {
   "cell_type": "code",
   "execution_count": 8,
   "id": "cf232ade",
   "metadata": {},
   "outputs": [],
   "source": [
    "z = 'Brazil'"
   ]
  },
  {
   "cell_type": "code",
   "execution_count": 9,
   "id": "947bcf87",
   "metadata": {},
   "outputs": [
    {
     "data": {
      "text/plain": [
       "str"
      ]
     },
     "execution_count": 9,
     "metadata": {},
     "output_type": "execute_result"
    }
   ],
   "source": [
    "type(z)"
   ]
  },
  {
   "cell_type": "code",
   "execution_count": 10,
   "id": "c2ad6325",
   "metadata": {},
   "outputs": [
    {
     "data": {
      "text/plain": [
       "str"
      ]
     },
     "execution_count": 10,
     "metadata": {},
     "output_type": "execute_result"
    }
   ],
   "source": [
    "type('Mania')"
   ]
  },
  {
   "cell_type": "code",
   "execution_count": 11,
   "id": "d9b211ee",
   "metadata": {},
   "outputs": [
    {
     "data": {
      "text/plain": [
       "bool"
      ]
     },
     "execution_count": 11,
     "metadata": {},
     "output_type": "execute_result"
    }
   ],
   "source": [
    "type(True)"
   ]
  },
  {
   "cell_type": "code",
   "execution_count": 13,
   "id": "8b1dd5d2",
   "metadata": {},
   "outputs": [
    {
     "data": {
      "text/plain": [
       "bool"
      ]
     },
     "execution_count": 13,
     "metadata": {},
     "output_type": "execute_result"
    }
   ],
   "source": [
    "type(False)"
   ]
  },
  {
   "cell_type": "code",
   "execution_count": 14,
   "id": "e810ae04",
   "metadata": {},
   "outputs": [
    {
     "name": "stdout",
     "output_type": "stream",
     "text": [
      "2\n"
     ]
    }
   ],
   "source": [
    "print(x)"
   ]
  },
  {
   "cell_type": "code",
   "execution_count": 15,
   "id": "3bebc7d0",
   "metadata": {},
   "outputs": [
    {
     "data": {
      "text/plain": [
       "6"
      ]
     },
     "execution_count": 15,
     "metadata": {},
     "output_type": "execute_result"
    }
   ],
   "source": [
    "x+4"
   ]
  },
  {
   "cell_type": "code",
   "execution_count": 16,
   "id": "a3797081",
   "metadata": {},
   "outputs": [],
   "source": [
    "x = x+4"
   ]
  },
  {
   "cell_type": "code",
   "execution_count": 17,
   "id": "9b654b7a",
   "metadata": {},
   "outputs": [
    {
     "name": "stdout",
     "output_type": "stream",
     "text": [
      "6\n"
     ]
    }
   ],
   "source": [
    "print(x)"
   ]
  },
  {
   "cell_type": "code",
   "execution_count": 18,
   "id": "bbb35c2e",
   "metadata": {},
   "outputs": [],
   "source": [
    "a = 'Hello, '"
   ]
  },
  {
   "cell_type": "code",
   "execution_count": 19,
   "id": "23a4fa0f",
   "metadata": {},
   "outputs": [],
   "source": [
    "b= 'Marley'"
   ]
  },
  {
   "cell_type": "code",
   "execution_count": 20,
   "id": "4058b2c6",
   "metadata": {},
   "outputs": [
    {
     "data": {
      "text/plain": [
       "'Hello, Marley'"
      ]
     },
     "execution_count": 20,
     "metadata": {},
     "output_type": "execute_result"
    }
   ],
   "source": [
    "a+b\n"
   ]
  },
  {
   "cell_type": "code",
   "execution_count": 21,
   "id": "35c95de4",
   "metadata": {},
   "outputs": [],
   "source": [
    "n = 'potato'"
   ]
  },
  {
   "cell_type": "code",
   "execution_count": 22,
   "id": "b22b5b9e",
   "metadata": {},
   "outputs": [
    {
     "data": {
      "text/plain": [
       "'potatopotatopotatopotatopotatopotatopotatopotatopotatopotatopotatopotato'"
      ]
     },
     "execution_count": 22,
     "metadata": {},
     "output_type": "execute_result"
    }
   ],
   "source": [
    "n *12"
   ]
  },
  {
   "cell_type": "code",
   "execution_count": 23,
   "id": "6399bf20",
   "metadata": {},
   "outputs": [
    {
     "data": {
      "text/plain": [
       "False"
      ]
     },
     "execution_count": 23,
     "metadata": {},
     "output_type": "execute_result"
    }
   ],
   "source": [
    "x == y"
   ]
  },
  {
   "cell_type": "code",
   "execution_count": 24,
   "id": "6d0e1bc5",
   "metadata": {},
   "outputs": [
    {
     "data": {
      "text/plain": [
       "bool"
      ]
     },
     "execution_count": 24,
     "metadata": {},
     "output_type": "execute_result"
    }
   ],
   "source": [
    "type (x == y)"
   ]
  },
  {
   "cell_type": "code",
   "execution_count": 1,
   "id": "58d91a28",
   "metadata": {},
   "outputs": [
    {
     "data": {
      "text/plain": [
       "100"
      ]
     },
     "execution_count": 1,
     "metadata": {},
     "output_type": "execute_result"
    }
   ],
   "source": [
    "# direction Task 4.2 / 7.1\n",
    "q = 50;\n",
    "w = 50;\n",
    "q + w"
   ]
  },
  {
   "cell_type": "code",
   "execution_count": 4,
   "id": "70ab8224",
   "metadata": {},
   "outputs": [
    {
     "name": "stdout",
     "output_type": "stream",
     "text": [
      "100\n"
     ]
    }
   ],
   "source": [
    "# direction Task 4.2 / 7.2\n",
    "print (q * 2);"
   ]
  },
  {
   "cell_type": "code",
   "execution_count": 5,
   "id": "ce647603",
   "metadata": {},
   "outputs": [
    {
     "name": "stdout",
     "output_type": "stream",
     "text": [
      "100.0\n"
     ]
    }
   ],
   "source": [
    "# direction Task 4.2 / 7.3\n",
    "e = 5000\n",
    "print(e/q);"
   ]
  },
  {
   "cell_type": "code",
   "execution_count": 6,
   "id": "f9b4373b",
   "metadata": {},
   "outputs": [
    {
     "data": {
      "text/plain": [
       "int"
      ]
     },
     "execution_count": 6,
     "metadata": {},
     "output_type": "execute_result"
    }
   ],
   "source": [
    "type(e)"
   ]
  },
  {
   "cell_type": "code",
   "execution_count": 7,
   "id": "d00daa1d",
   "metadata": {},
   "outputs": [
    {
     "data": {
      "text/plain": [
       "int"
      ]
     },
     "execution_count": 7,
     "metadata": {},
     "output_type": "execute_result"
    }
   ],
   "source": [
    "type(q)"
   ]
  },
  {
   "cell_type": "code",
   "execution_count": 8,
   "id": "48f6eb5d",
   "metadata": {},
   "outputs": [
    {
     "data": {
      "text/plain": [
       "int"
      ]
     },
     "execution_count": 8,
     "metadata": {},
     "output_type": "execute_result"
    }
   ],
   "source": [
    "type(w)"
   ]
  },
  {
   "cell_type": "code",
   "execution_count": 9,
   "id": "a3db1195",
   "metadata": {},
   "outputs": [
    {
     "name": "stdout",
     "output_type": "stream",
     "text": [
      "334.64617834394903\n"
     ]
    }
   ],
   "source": [
    "# direction Task 4.2 / 8\n",
    "r = 3.14\n",
    "t = 1050.789\n",
    "print(t/r)"
   ]
  },
  {
   "cell_type": "code",
   "execution_count": 12,
   "id": "0759a5ca",
   "metadata": {},
   "outputs": [
    {
     "name": "stdout",
     "output_type": "stream",
     "text": [
      "Peter\n"
     ]
    }
   ],
   "source": [
    "# direction Task 4.2 / 9\n",
    "a = 'P'\n",
    "b = 'e'\n",
    "c = 't'\n",
    "d = 'r'\n",
    "print (a+b+c+b+d)"
   ]
  },
  {
   "cell_type": "code",
   "execution_count": 17,
   "id": "3113dc33",
   "metadata": {},
   "outputs": [
    {
     "name": "stdout",
     "output_type": "stream",
     "text": [
      "Keep on learning with Careerfoundry!\n",
      "Keep on learning with Careerfoundry!\n",
      "Python is a Snake or a programming language :)\n"
     ]
    }
   ],
   "source": [
    "# direction Task 4.2 / 10\n",
    "a = 'Keep '\n",
    "b = 'on '\n",
    "c = 'learning '\n",
    "d = 'with '\n",
    "f = 'Careerfoundry!'\n",
    "\n",
    "\n",
    "print (a+b+c+d+f)\n",
    "\n",
    "aa = 'Python is a Snake '\n",
    "bb = 'or a programming language :)'\n",
    "\n",
    "print (a+b+c+d+f)\n",
    "print (aa+bb)"
   ]
  },
  {
   "cell_type": "code",
   "execution_count": 18,
   "id": "b713e2e7",
   "metadata": {},
   "outputs": [
    {
     "data": {
      "text/plain": [
       "'Thank you KimeraThank you KimeraThank you KimeraThank you KimeraThank you KimeraThank you KimeraThank you KimeraThank you KimeraThank you KimeraThank you KimeraThank you KimeraThank you KimeraThank you KimeraThank you KimeraThank you KimeraThank you KimeraThank you KimeraThank you KimeraThank you KimeraThank you KimeraThank you KimeraThank you KimeraThank you KimeraThank you KimeraThank you KimeraThank you KimeraThank you KimeraThank you KimeraThank you KimeraThank you KimeraThank you KimeraThank you KimeraThank you KimeraThank you KimeraThank you KimeraThank you KimeraThank you KimeraThank you KimeraThank you KimeraThank you KimeraThank you KimeraThank you KimeraThank you KimeraThank you KimeraThank you KimeraThank you KimeraThank you KimeraThank you KimeraThank you KimeraThank you KimeraThank you KimeraThank you KimeraThank you KimeraThank you KimeraThank you KimeraThank you KimeraThank you KimeraThank you KimeraThank you KimeraThank you KimeraThank you KimeraThank you KimeraThank you KimeraThank you KimeraThank you KimeraThank you KimeraThank you KimeraThank you KimeraThank you KimeraThank you KimeraThank you KimeraThank you KimeraThank you KimeraThank you KimeraThank you KimeraThank you KimeraThank you KimeraThank you KimeraThank you KimeraThank you KimeraThank you KimeraThank you KimeraThank you KimeraThank you KimeraThank you KimeraThank you KimeraThank you KimeraThank you KimeraThank you KimeraThank you KimeraThank you KimeraThank you KimeraThank you KimeraThank you KimeraThank you KimeraThank you KimeraThank you KimeraThank you KimeraThank you KimeraThank you Kimera'"
      ]
     },
     "execution_count": 18,
     "metadata": {},
     "output_type": "execute_result"
    }
   ],
   "source": [
    "# direction Task 4.2 / Bonus Task\n",
    "k= 'Thank you Kimera'\n",
    "k*100"
   ]
  },
  {
   "cell_type": "code",
   "execution_count": null,
   "id": "9a63ed09",
   "metadata": {},
   "outputs": [],
   "source": []
  }
 ],
 "metadata": {
  "kernelspec": {
   "display_name": "Python 3 (ipykernel)",
   "language": "python",
   "name": "python3"
  },
  "language_info": {
   "codemirror_mode": {
    "name": "ipython",
    "version": 3
   },
   "file_extension": ".py",
   "mimetype": "text/x-python",
   "name": "python",
   "nbconvert_exporter": "python",
   "pygments_lexer": "ipython3",
   "version": "3.11.7"
  }
 },
 "nbformat": 4,
 "nbformat_minor": 5
}
